{
 "cells": [
  {
   "cell_type": "code",
   "execution_count": 2,
   "metadata": {
    "collapsed": true
   },
   "outputs": [],
   "source": [
    "import pandas as pd\n",
    "import requests\n",
    "from pprint import pprint"
   ]
  },
  {
   "cell_type": "code",
   "execution_count": 12,
   "metadata": {
    "collapsed": false
   },
   "outputs": [],
   "source": [
    "r = requests.get(\"http://info-new.guruestate.com//v1/properties/1403/sales?_format=json&region=sg&censure=false&fields=all&metadata=false&page=1&limit=20&transpose=false&pgDataSet=false\")"
   ]
  },
  {
   "cell_type": "code",
   "execution_count": null,
   "metadata": {
    "collapsed": true
   },
   "outputs": [],
   "source": []
  },
  {
   "cell_type": "code",
   "execution_count": 13,
   "metadata": {
    "collapsed": false
   },
   "outputs": [
    {
     "name": "stdout",
     "output_type": "stream",
     "text": [
      "1995-11-09\n",
      "1996-02-01\n",
      "1996-05-27\n",
      "1996-12-05\n",
      "1999-05-29\n",
      "1999-06-26\n",
      "1999-09-01\n",
      "2000-08-01\n",
      "2001-04-25\n",
      "2004-10-21\n",
      "2006-04-13\n",
      "2006-09-01\n",
      "2007-06-18\n",
      "2007-07-16\n",
      "2008-07-07\n",
      "2009-04-01\n",
      "2010-02-25\n",
      "2010-07-19\n",
      "2011-01-19\n",
      "2012-05-07\n"
     ]
    }
   ],
   "source": [
    "resp = r.json()\n",
    "for r in resp:\n",
    "    print(r[\"contractDate\"])"
   ]
  }
 ],
 "metadata": {
  "kernelspec": {
   "display_name": "Python 3",
   "language": "python",
   "name": "python3"
  },
  "language_info": {
   "codemirror_mode": {
    "name": "ipython",
    "version": 3
   },
   "file_extension": ".py",
   "mimetype": "text/x-python",
   "name": "python",
   "nbconvert_exporter": "python",
   "pygments_lexer": "ipython3",
   "version": "3.4.3"
  }
 },
 "nbformat": 4,
 "nbformat_minor": 0
}
