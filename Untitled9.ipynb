{
 "cells": [
  {
   "cell_type": "code",
   "execution_count": 2,
   "metadata": {
    "collapsed": true
   },
   "outputs": [],
   "source": [
    "import psycopg2"
   ]
  },
  {
   "cell_type": "code",
   "execution_count": 8,
   "metadata": {
    "collapsed": false
   },
   "outputs": [],
   "source": [
    "conn = psycopg2.connect(\n",
    "    host=\"pg-redshift-cluster.cgnifbeifavu.ap-southeast-1.redshift.amazonaws.com\", \n",
    "    user=\"rsreadonly\", \n",
    "    port=5439, \n",
    "    password=\"Pguru123\", \n",
    "    dbname=\"dev\")"
   ]
  },
  {
   "cell_type": "code",
   "execution_count": 9,
   "metadata": {
    "collapsed": true
   },
   "outputs": [],
   "source": [
    "cur = conn.cursor()"
   ]
  },
  {
   "cell_type": "code",
   "execution_count": 13,
   "metadata": {
    "collapsed": false
   },
   "outputs": [],
   "source": [
    "cur.execute(\"select * from information_schema.tables\")"
   ]
  },
  {
   "cell_type": "code",
   "execution_count": 14,
   "metadata": {
    "collapsed": false
   },
   "outputs": [],
   "source": [
    "with open(\"tables.txt\",\"w\") as f:\n",
    "    f.write(str(cur.fetchall()))"
   ]
  },
  {
   "cell_type": "code",
   "execution_count": 8,
   "metadata": {
    "collapsed": false
   },
   "outputs": [
    {
     "data": {
      "text/plain": [
       "[]"
      ]
     },
     "execution_count": 8,
     "metadata": {},
     "output_type": "execute_result"
    }
   ],
   "source": [
    "cur.fetchall()"
   ]
  },
  {
   "cell_type": "markdown",
   "metadata": {},
   "source": [
    "<H4>Postgres query to describe a table</H4>"
   ]
  },
  {
   "cell_type": "code",
   "execution_count": 11,
   "metadata": {
    "collapsed": false
   },
   "outputs": [],
   "source": [
    "cur.execute(\"select column_name, data_type, character_maximum_length from INFORMATION_SCHEMA.COLUMNS where table_name = 'olap_fact_sales_ura'\")"
   ]
  },
  {
   "cell_type": "code",
   "execution_count": 12,
   "metadata": {
    "collapsed": false
   },
   "outputs": [
    {
     "data": {
      "text/plain": [
       "[('tenure_type_id', 'smallint', None),\n",
       " ('area_type_id', 'smallint', None),\n",
       " ('sale_type_id', 'smallint', None),\n",
       " ('buyer_type_id', 'smallint', None),\n",
       " ('floor', 'smallint', None),\n",
       " ('completed_year', 'smallint', None),\n",
       " ('unit_size_id', 'smallint', None),\n",
       " ('property_sub_type_id', 'smallint', None),\n",
       " ('property_type_id', 'smallint', None),\n",
       " ('property_name_id', 'smallint', None),\n",
       " ('planning_area_region_id', 'smallint', None),\n",
       " ('planning_area_id', 'smallint', None),\n",
       " ('district_region_id', 'smallint', None),\n",
       " ('district_id', 'smallint', None),\n",
       " ('street_name_id', 'smallint', None),\n",
       " ('psf', 'integer', None),\n",
       " ('psm', 'integer', None),\n",
       " ('transacted_price', 'integer', None),\n",
       " ('units', 'integer', None),\n",
       " ('storey_id', 'integer', None),\n",
       " ('month_id', 'integer', None),\n",
       " ('quarter_id', 'integer', None),\n",
       " ('year', 'integer', None),\n",
       " ('id', 'integer', None),\n",
       " ('tenure_type_txt', 'character varying', 20),\n",
       " ('area_type_txt', 'character varying', 20),\n",
       " ('sale_type_txt', 'character varying', 20),\n",
       " ('buyer_type_txt', 'character varying', 20),\n",
       " ('storey_txt', 'character varying', 20),\n",
       " ('unit_size_sqm_txt', 'character varying', 15),\n",
       " ('unit_size_sqft_txt', 'character varying', 15),\n",
       " ('property_sub_type_txt', 'character varying', 45),\n",
       " ('property_type_txt', 'character varying', 45),\n",
       " ('property_name_txt', 'character varying', 50),\n",
       " ('planning_area_region_txt', 'character varying', 20),\n",
       " ('planning_area_txt', 'character varying', 30),\n",
       " ('district_region_txt', 'character varying', 20),\n",
       " ('district_txt', 'character varying', 3),\n",
       " ('street_name_txt', 'character varying', 45),\n",
       " ('month_txt', 'character varying', 10),\n",
       " ('quarter_txt', 'character varying', 6),\n",
       " ('date', 'date', None)]"
      ]
     },
     "execution_count": 12,
     "metadata": {},
     "output_type": "execute_result"
    }
   ],
   "source": [
    "cur.fetchall()"
   ]
  },
  {
   "cell_type": "code",
   "execution_count": 35,
   "metadata": {
    "collapsed": false
   },
   "outputs": [],
   "source": [
    "cur.execute(\"select * from olap_fact_sales_ura order by date desc limit 10\")"
   ]
  },
  {
   "cell_type": "code",
   "execution_count": 27,
   "metadata": {
    "collapsed": true
   },
   "outputs": [],
   "source": [
    "cur.execute(\"select column_name from INFORMATION_SCHEMA.COLUMNS where table_name = 'event_listing_views'\")"
   ]
  },
  {
   "cell_type": "code",
   "execution_count": 28,
   "metadata": {
    "collapsed": false
   },
   "outputs": [],
   "source": [
    "cols = cur.fetchall()"
   ]
  },
  {
   "cell_type": "code",
   "execution_count": 29,
   "metadata": {
    "collapsed": false
   },
   "outputs": [
    {
     "data": {
      "text/plain": [
       "[('log_batch_id',),\n",
       " ('log_id',),\n",
       " ('is_crawler',),\n",
       " ('ref_rank',),\n",
       " ('developer_id',),\n",
       " ('user_id',),\n",
       " ('property_id',),\n",
       " ('listing_id',),\n",
       " ('agent_id',),\n",
       " ('ua_os',),\n",
       " ('ua_name',),\n",
       " ('ua_type',),\n",
       " ('ref_section',),\n",
       " ('ref_type',),\n",
       " ('referral',),\n",
       " ('section_div',),\n",
       " ('seeker_type',),\n",
       " ('session_id',),\n",
       " ('device_id',),\n",
       " ('phone_id',),\n",
       " ('source_partner',),\n",
       " ('source_product',),\n",
       " ('source_device',),\n",
       " ('app_version',),\n",
       " ('section',),\n",
       " ('user_country',),\n",
       " ('listing_type',),\n",
       " ('region',),\n",
       " ('source',),\n",
       " ('event_type',),\n",
       " ('log_ip',),\n",
       " ('log_useragent',),\n",
       " ('timestamp_client',),\n",
       " ('log_time',)]"
      ]
     },
     "execution_count": 29,
     "metadata": {},
     "output_type": "execute_result"
    }
   ],
   "source": [
    "cols"
   ]
  },
  {
   "cell_type": "code",
   "execution_count": 35,
   "metadata": {
    "collapsed": false
   },
   "outputs": [
    {
     "data": {
      "text/plain": [
       "[(None,\n",
       "  None,\n",
       "  1944386,\n",
       "  5434,\n",
       "  '',\n",
       "  'agent',\n",
       "  'my',\n",
       "  '',\n",
       "  '175.136.55.56',\n",
       "  datetime.datetime(2014, 8, 21, 12, 32, 9)),\n",
       " (None,\n",
       "  None,\n",
       "  7068236,\n",
       "  18083,\n",
       "  '',\n",
       "  'agent',\n",
       "  'my',\n",
       "  '',\n",
       "  '113.89.105.226',\n",
       "  datetime.datetime(2014, 8, 21, 12, 34, 58)),\n",
       " (None,\n",
       "  None,\n",
       "  1300193,\n",
       "  1000055,\n",
       "  '',\n",
       "  'agent',\n",
       "  'th',\n",
       "  '',\n",
       "  '49.230.128.15',\n",
       "  datetime.datetime(2014, 8, 21, 12, 35, 22)),\n",
       " (None,\n",
       "  None,\n",
       "  7389428,\n",
       "  305141,\n",
       "  '',\n",
       "  'agent',\n",
       "  'my',\n",
       "  '',\n",
       "  '175.144.154.233',\n",
       "  datetime.datetime(2014, 8, 21, 12, 34, 50)),\n",
       " (None,\n",
       "  None,\n",
       "  7389428,\n",
       "  305141,\n",
       "  '',\n",
       "  'agent',\n",
       "  'my',\n",
       "  '',\n",
       "  '175.144.154.233',\n",
       "  datetime.datetime(2014, 8, 21, 12, 35, 20)),\n",
       " (306122,\n",
       "  None,\n",
       "  6974477,\n",
       "  83594,\n",
       "  '',\n",
       "  'agent',\n",
       "  'my',\n",
       "  '',\n",
       "  '115.134.172.84',\n",
       "  datetime.datetime(2014, 8, 21, 12, 39, 45)),\n",
       " (None,\n",
       "  None,\n",
       "  45172,\n",
       "  None,\n",
       "  '',\n",
       "  'dev',\n",
       "  'my',\n",
       "  '',\n",
       "  '175.142.159.123',\n",
       "  datetime.datetime(2014, 8, 21, 12, 40, 14)),\n",
       " (None,\n",
       "  None,\n",
       "  925799,\n",
       "  1053497,\n",
       "  '',\n",
       "  'agent',\n",
       "  'th',\n",
       "  '',\n",
       "  '1.46.102.76',\n",
       "  datetime.datetime(2014, 8, 21, 12, 40, 49)),\n",
       " (None,\n",
       "  None,\n",
       "  892166,\n",
       "  1245167,\n",
       "  '',\n",
       "  'agent',\n",
       "  'th',\n",
       "  '',\n",
       "  '27.55.165.249',\n",
       "  datetime.datetime(2014, 8, 21, 12, 38, 28)),\n",
       " (None,\n",
       "  None,\n",
       "  91701,\n",
       "  34248,\n",
       "  '',\n",
       "  'agent',\n",
       "  'th',\n",
       "  '',\n",
       "  '1.47.225.95',\n",
       "  datetime.datetime(2014, 8, 21, 12, 36, 54))]"
      ]
     },
     "execution_count": 35,
     "metadata": {},
     "output_type": "execute_result"
    }
   ],
   "source": [
    "cur.execute('select user_id,property_id,listing_id,agent_id,user_country,listing_type,region,source_device,log_ip,log_time from \"clickstream_log\".\"event_listing_views\" limit 10')\n",
    "cur.fetchall()"
   ]
  },
  {
   "cell_type": "code",
   "execution_count": 36,
   "metadata": {
    "collapsed": false
   },
   "outputs": [],
   "source": [
    "cur.close()\n",
    "conn.close()"
   ]
  },
  {
   "cell_type": "code",
   "execution_count": 37,
   "metadata": {
    "collapsed": true
   },
   "outputs": [],
   "source": [
    "conn = psycopg2.connect(\n",
    "    host=\"pg-redshift-cluster.cgnifbeifavu.ap-southeast-1.redshift.amazonaws.com\", \n",
    "    user=\"rsreadonly\", \n",
    "    port=5439, \n",
    "    password=\"Pguru123\", \n",
    "    dbname=\"dev\")\n",
    "cur = conn.cursor()"
   ]
  },
  {
   "cell_type": "code",
   "execution_count": 38,
   "metadata": {
    "collapsed": false
   },
   "outputs": [
    {
     "data": {
      "text/plain": [
       "[('PostgreSQL 8.0.2 on i686-pc-linux-gnu, compiled by GCC gcc (GCC) 3.4.2 20041017 (Red Hat 3.4.2-6.fc3), Redshift 1.0.981 ',)]"
      ]
     },
     "execution_count": 38,
     "metadata": {},
     "output_type": "execute_result"
    }
   ],
   "source": [
    "cur.execute(\"Select version();\")\n",
    "cur.fetchall()"
   ]
  }
 ],
 "metadata": {
  "kernelspec": {
   "display_name": "Python 3",
   "language": "python",
   "name": "python3"
  },
  "language_info": {
   "codemirror_mode": {
    "name": "ipython",
    "version": 3
   },
   "file_extension": ".py",
   "mimetype": "text/x-python",
   "name": "python",
   "nbconvert_exporter": "python",
   "pygments_lexer": "ipython3",
   "version": "3.4.3"
  }
 },
 "nbformat": 4,
 "nbformat_minor": 0
}
