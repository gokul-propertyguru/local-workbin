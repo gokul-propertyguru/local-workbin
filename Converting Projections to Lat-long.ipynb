{
 "cells": [
  {
   "cell_type": "code",
   "execution_count": 1,
   "metadata": {
    "collapsed": false
   },
   "outputs": [],
   "source": [
    "from pyproj import Proj, transform\n",
    "import fiona\n",
    "from fiona.crs import from_epsg\n",
    "import sys\n"
   ]
  },
  {
   "cell_type": "code",
   "execution_count": 4,
   "metadata": {
    "collapsed": false
   },
   "outputs": [
    {
     "name": "stdout",
     "output_type": "stream",
     "text": [
      "JURONG PORT\n",
      "NORTH EASTERN ISLANDS\n",
      "SUDONG\n",
      "BUKUM\n",
      "SOUTHERN GROUP\n",
      "SENTOSA\n",
      "TUAS COAST\n",
      "WESTERN WATER CATCHMENT\n",
      "CHANGI BAY\n"
     ]
    }
   ],
   "source": [
    "from pyproj import Proj, transform\n",
    "import fiona\n",
    "from fiona.crs import from_epsg\n",
    "shape = fiona.open('subzone/Subzone_Census2010.shp')\n",
    "original = Proj(shape.crs,preserve_units=True) \n",
    "destination = Proj(init='EPSG:4326',preserve_units=True) # your new EPSG\n",
    "i=0\n",
    "\n",
    "with fiona.open('subzone/Subzone_Census2010WGS84.shp', 'w', 'ESRI Shapefile', shape.schema.copy(), crs=from_epsg(4326)) as output:\n",
    "    for feat in shape: # feat = one polygon of the shapefile\n",
    "        feat['properties']['SHAPE_Area'] = 0\n",
    "        if feat['geometry']['type']=='Polygon':\n",
    "            out_linearRing = [] # empty list for the LinearRing of transformed coordinates\n",
    "            for point in feat['geometry']['coordinates'][0]: # LinearRing of the Polygon\n",
    "                lon,lat =  point\n",
    "                x,y = transform(original, destination,lon,lat)\n",
    "                out_linearRing.append((x,y))\n",
    "            feat['geometry']['coordinates'] = [out_linearRing]\n",
    "            output.write(feat)\n",
    "        elif feat['geometry']['type']=='MultiPolygon':\n",
    "            print feat['properties']['SUBZONE_N']\n",
    "            for polygon in feat['geometry']['coordinates']:\n",
    "                for point in polygon[0]:\n",
    "                    lon,lat =  point\n",
    "                    x,y = transform(original, destination,lon,lat)\n",
    "                    out_linearRing.append((x,y))\n",
    "                feat['geometry']['coordinates'] = [[out_linearRing]]\n",
    "                #output.write(feat)"
   ]
  }
 ],
 "metadata": {
  "kernelspec": {
   "display_name": "Python 2",
   "language": "python",
   "name": "python2"
  },
  "language_info": {
   "codemirror_mode": {
    "name": "ipython",
    "version": 2
   },
   "file_extension": ".py",
   "mimetype": "text/x-python",
   "name": "python",
   "nbconvert_exporter": "python",
   "pygments_lexer": "ipython2",
   "version": "2.7.10"
  }
 },
 "nbformat": 4,
 "nbformat_minor": 0
}
