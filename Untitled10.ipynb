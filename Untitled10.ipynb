{
 "cells": [
  {
   "cell_type": "code",
   "execution_count": 4,
   "metadata": {
    "collapsed": false
   },
   "outputs": [],
   "source": [
    "import numpy as np\n",
    "import numpy.linalg as la\n",
    "import numpy.random as rnd\n",
    "import matplotlib.pyplot as plt\n",
    "%matplotlib inline"
   ]
  },
  {
   "cell_type": "code",
   "execution_count": 9,
   "metadata": {
    "collapsed": true
   },
   "outputs": [],
   "source": [
    "def create_data(n,xmin=-2,xmax=12,a=1.1,b=2.0):\n",
    "    x = rnd.random(n) * (xmax-xmin) + xmin\n",
    "    y = a*x + b + rnd.random(n) * 1.5\n",
    "    \n",
    "    return x,y"
   ]
  },
  {
   "cell_type": "code",
   "execution_count": 10,
   "metadata": {
    "collapsed": true
   },
   "outputs": [],
   "source": [
    "x,y = create_data(100)"
   ]
  },
  {
   "cell_type": "code",
   "execution_count": 11,
   "metadata": {
    "collapsed": false
   },
   "outputs": [
    {
     "data": {
      "image/png": "[encoded data removed]",
      "text/plain": [
       "<matplotlib.figure.Figure at 0x7f2a71126278>"
      ]
     },
     "metadata": {},
     "output_type": "display_data"
    }
   ],
   "source": [
    "plt.scatter(x,y)\n",
    "plt.show()"
   ]
  },
  {
   "cell_type": "code",
   "execution_count": 13,
   "metadata": {
    "collapsed": true
   },
   "outputs": [],
   "source": [
    "def data_matrix(x):\n",
    "    return np.vstack((x,np.ones_like(x))).T"
   ]
  },
  {
   "cell_type": "code",
   "execution_count": 16,
   "metadata": {
    "collapsed": false
   },
   "outputs": [
    {
     "data": {
      "text/plain": [
       "(100,)"
      ]
     },
     "execution_count": 16,
     "metadata": {},
     "output_type": "execute_result"
    }
   ],
   "source": [
    "np.shape(x)"
   ]
  },
  {
   "cell_type": "code",
   "execution_count": 18,
   "metadata": {
    "collapsed": false
   },
   "outputs": [],
   "source": [
    "X = data_matrix(x)"
   ]
  },
  {
   "cell_type": "code",
   "execution_count": 19,
   "metadata": {
    "collapsed": false
   },
   "outputs": [
    {
     "data": {
      "text/plain": [
       "array([ 1.08761895,  2.82009868])"
      ]
     },
     "execution_count": 19,
     "metadata": {},
     "output_type": "execute_result"
    }
   ],
   "source": [
    "w = la.lstsq(X,y)[0]\n",
    "w"
   ]
  },
  {
   "cell_type": "code",
   "execution_count": 20,
   "metadata": {
    "collapsed": false
   },
   "outputs": [
    {
     "data": {
      "text/plain": [
       "array([ 11.33147647,   4.07673093,   1.64335356,   5.1962474 ,\n",
       "         1.10198885,   1.76560541,   6.05272026,  12.06746974,\n",
       "         1.42890886,  14.07789967,  13.31163382,   4.02590617,\n",
       "        13.46459274,  10.47569225,   6.99854064,   4.23431135,\n",
       "         1.14937624,   1.08840841,  15.3315765 ,   7.35691876,\n",
       "         1.21650135,   2.25065042,  15.15916347,  13.62556364,\n",
       "         4.43921445,   4.60376691,   6.26190768,  11.25992422,\n",
       "        13.49303038,  15.38386504,  11.03139611,   7.24453442,\n",
       "         8.03848096,   6.25135154,   8.93470541,  11.14700831,\n",
       "         4.54125508,  11.80369228,   9.49739692,   4.17223256,\n",
       "        15.22034982,  15.10025317,  14.95822522,   6.88639257,\n",
       "         3.31801969,  15.06413319,   4.27362907,   6.59597672,\n",
       "         6.62333005,   3.22949194,   9.05467876,   6.70892145,\n",
       "         9.48926285,  12.27472023,   0.85216696,   9.34713821,\n",
       "        12.47804183,   7.07665078,   6.92392063,   2.07619296,\n",
       "        11.92852108,   6.56634531,   8.26107454,  12.22576332,\n",
       "         1.53355513,   8.17746512,  14.43067447,   1.30816652,\n",
       "         5.00410715,  12.81137198,  10.31109726,   2.46761581,\n",
       "        13.57805115,  15.82931548,   8.48950734,  11.90416281,\n",
       "         9.81939144,   8.69163468,  11.56402172,  14.3649422 ,\n",
       "        11.9345328 ,   4.0580785 ,   9.108949  ,  11.55183894,\n",
       "        10.42696826,   9.29375788,  14.86026024,   3.98367973,\n",
       "         8.26832291,   2.85571673,   6.70693225,   8.27387015,\n",
       "        10.18106763,  12.10166117,  15.16644997,   6.3741605 ,\n",
       "         8.44833871,  13.4521639 ,   8.57800861,   4.58869647])"
      ]
     },
     "execution_count": 20,
     "metadata": {},
     "output_type": "execute_result"
    }
   ],
   "source": [
    "yhat = np.dot(X,w)\n",
    "yhat"
   ]
  },
  {
   "cell_type": "code",
   "execution_count": 27,
   "metadata": {
    "collapsed": false
   },
   "outputs": [
    {
     "data": {
      "image/png": "[encoded data removed]",
      "text/plain": [
       "<matplotlib.figure.Figure at 0x7f2a70dc6eb8>"
      ]
     },
     "metadata": {},
     "output_type": "display_data"
    }
   ],
   "source": [
    "plt.plot(x,y,'x')\n",
    "plt.plot(x,yhat,'o',color=\"yellow\")\n",
    "plt.show()"
   ]
  },
  {
   "cell_type": "code",
   "execution_count": null,
   "metadata": {
    "collapsed": true
   },
   "outputs": [],
   "source": []
  }
 ],
 "metadata": {
  "kernelspec": {
   "display_name": "Python 3",
   "language": "python",
   "name": "python3"
  },
  "language_info": {
   "codemirror_mode": {
    "name": "ipython",
    "version": 3
   },
   "file_extension": ".py",
   "mimetype": "text/x-python",
   "name": "python",
   "nbconvert_exporter": "python",
   "pygments_lexer": "ipython3",
   "version": "3.4.3"
  }
 },
 "nbformat": 4,
 "nbformat_minor": 0
}
