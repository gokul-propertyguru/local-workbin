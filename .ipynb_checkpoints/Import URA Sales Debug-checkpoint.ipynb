{
 "cells": [
  {
   "cell_type": "code",
   "execution_count": 13,
   "metadata": {
    "collapsed": true
   },
   "outputs": [],
   "source": [
    "import site\n",
    "site.addsitedir(\"/var/www/data-prototyping/\")\n",
    "\n",
    "from datetime import date, datetime\n",
    "from dateutil.relativedelta import relativedelta as rdt\n",
    "import io\n",
    "\n",
    "import bs4\n",
    "import requests\n",
    "import pandas as pd\n",
    "\n",
    "from pygurujobs.job import job\n",
    "from pygurujobs.jobbase import JobBase\n",
    "from pygurucore.tables import GuruTable\n",
    "\n",
    "import pdb"
   ]
  },
  {
   "cell_type": "code",
   "execution_count": 14,
   "metadata": {
    "collapsed": true
   },
   "outputs": [],
   "source": [
    "s=None"
   ]
  },
  {
   "cell_type": "code",
   "execution_count": 15,
   "metadata": {
    "collapsed": true
   },
   "outputs": [],
   "source": [
    "def scrape(month, t):\n",
    "    count = nav_search(month)\n",
    "    nav_down(month, count)\n",
    "    for x in range((count - 1) // 500 + 1):\n",
    "        down_insert(x, t, month)"
   ]
  },
  {
   "cell_type": "code",
   "execution_count": 16,
   "metadata": {
    "collapsed": true
   },
   "outputs": [],
   "source": [
    "def nav_search(month):\n",
    "    mt = month.strftime('%b').upper()\n",
    "    yr = month.strftime('%Y')\n",
    "    b = s.post(\n",
    "        'http://spring.ura.gov.sg//lad/ore/property_market/transaction/Transaction_Resi_Process.cfm',\n",
    "        data={\n",
    "            'Enbloc': 'YN',\n",
    "            'contractMON_from': mt,\n",
    "            'contractMON_to': mt,\n",
    "            'contractYY_from': yr,\n",
    "            'contractYY_to': yr,\n",
    "            'locality': 'stzone',\n",
    "            'search': 'projdetail',\n",
    "            'sorting': 'CONTRACT_DATE',\n",
    "            'submit_type': 'submit'\n",
    "            }\n",
    "        )\n",
    "    soup = bs4.BeautifulSoup(b.content)\n",
    "    print(soup)\n",
    "    return int(soup.find(\"input\", {\"name\": \"recordcount\"}).attrs['value'])"
   ]
  },
  {
   "cell_type": "code",
   "execution_count": 17,
   "metadata": {
    "collapsed": true
   },
   "outputs": [],
   "source": [
    "def nav_down(month, count):\n",
    "    end = (month + rdt(day=31))\n",
    "    s.post(\n",
    "        'http://spring.ura.gov.sg//lad/ore/property_market/transaction/Transaction_Resi_DisplayTable.cfm',\n",
    "        data={\n",
    "            'LineNbr': '1',\n",
    "            'StartRow': '1',\n",
    "            'caption': 'Contract Date|JAN 2015 - JAN 2015',\n",
    "            'choice': 'download',\n",
    "            'dispblk': 'AAAafbAA6AABxLBAAW,AAAafbAA6AABxLBAAX,AAAafbAA6AABxLBAAh,AAAafbAA6AABxLBAAg,AAAafbAA6AABxLBAAd',\n",
    "            'downloaded_recs': ['AAAafbAA6AABxLBAAW', 'AAAafbAA6AABxLBAAX', 'AAAafbAA6AABxLBAAh', 'AAAafbAA6AABxLBAAg', 'AAAafbAA6AABxLBAAd'],\n",
    "            'filter': \" 1=1 and CONTRACT_DATE >= to_date('\" + month.strftime('%d-%b-%Y').upper() + \"','DD-MON-YYYY') and CONTRACT_DATE <= to_date('\" + end.strftime('%d/%b/%Y').upper() + \"','DD-MON-YYYY') \",\n",
    "            'opt': 'project_name,house_no|street_name|storey|unit_no,cover,floor_land_area,lot_type,price,unit_price,unit_price_psf,actual_contract_date,property_type_code,title,completion_date,sale_type_ind,purchaser_address_ind,postal_code,postal_sector,postal_code1,region_code,dgp_code',\n",
    "            'ordercriteria': 'contract_date desc',\n",
    "            'recordcount': count,\n",
    "            'selected_display': \"project_name,house_no,initcap(street_name) street_name,storey,unit_no,cover,round(floor_land_area) floor_land_area,nvl(decode(lot_type,'L','Land','U','Strata'),'Unknown') as lot_type,round(price) price,round(price/floor_land_area) unit_price,round((price/floor_land_area)/10.764) unit_price_psf,actual_contract_date,property_type_code,decode(title,'NA','N.A.',initcap(title)) title,completion_date,decode(sale_type_ind,'1','New Sale','2','Sub Sale','3','Resale','O','Other','N.A.') sale_type_ind,decode(nvl(purchaser_address_ind, ' '), ' ', 'N.A.', purchaser_address_ind) purchaser_address_ind,postal_code,postal_sector,postal_code1,region_code,dgp_code\",\n",
    "            'sorting': 'CONTRACT_DATE',\n",
    "            'text': 'Project Name,Address,No. of Units,Area (sqm),Type of Area,Transacted Price ($),Unit Price ($ psm),Unit Price ($ psf),Contract Date,Property Type,Tenure,Completion Date,Type of Sale,Purchaser Address Indicator,Postal District,Postal Sector,Postal Code,Planning Region,Planning Area',\n",
    "            'title': \"project_name,house_no,initcap(street_name) street_name,storey,unit_no,cover,round(floor_land_area) floor_land_area,nvl(decode(lot_type,'L','Land','U','Strata'),'Unknown') as lot_type,round(price) price,round(price/floor_land_area) unit_price,round((price/floor_land_area)/10.764) unit_price_psf,actual_contract_date,property_type_code,decode(title,'NA','N.A.',initcap(title)) title,completion_date,decode(sale_type_ind,'1','New Sale','2','Sub Sale','3','Resale','O','Other','N.A.') sale_type_ind,decode(nvl(purchaser_address_ind, ' '), ' ', 'N.A.', purchaser_address_ind) purchaser_address_ind,postal_code,postal_sector,postal_code1,region_code,dgp_code\"\n",
    "            }\n",
    "        )"
   ]
  },
  {
   "cell_type": "code",
   "execution_count": 18,
   "metadata": {
    "collapsed": true
   },
   "outputs": [],
   "source": [
    "def down_insert(x, t, month):\n",
    "    low = str(x * 500 + 1)\n",
    "    up = str((x + 1) * 500)\n",
    "    d = s.get(\n",
    "        'http://spring.ura.gov.sg//lad/ore/property_market/transaction/transaction_download_CSV.cfm?filename=14012015160100%5F1%5Fallproperty%2Ecsv&lower=' + low + '&upper=' + up + '&downloadLimitRecs=10000&sorting=CONTRACT_DATE&tran_type=resi'\n",
    "        )\n",
    "    df = pd.read_csv(io.BytesIO(d.content), dtype=str).rename(columns={\n",
    "            'Project Name': 'ura_key',\n",
    "            'Address': 'address',\n",
    "            'No. of Units': 'units',\n",
    "            'Area (sqm)': 'area_sqm',\n",
    "            'Type of Area': 'area_type',\n",
    "            'Transacted Price ($)': 'transacted_price',\n",
    "            'Unit Price ($ psm)': 'psm',\n",
    "            'Unit Price ($ psf)': 'psf',\n",
    "            'Contract Date': 'contract_date',\n",
    "            'Property Type': 'property_type',\n",
    "            'Tenure': 'tenure',\n",
    "            'Completion Date': 'completion_year',\n",
    "            'Type of Sale': 'sale_type',\n",
    "            'Purchaser Address Indicator': 'purchaser',\n",
    "            'Postal District': 'district',\n",
    "            'Postal Sector': 'sector',\n",
    "            'Postal Code': 'postcode',\n",
    "            'Planning Region': 'planning_region',\n",
    "            'Planning Area': 'planning_area'\n",
    "        })\n",
    "    pdb.set_trace()\n",
    "    df['timestamp'] = month\n",
    "    df.insert_sql(t, 1000, False)"
   ]
  },
  {
   "cell_type": "code",
   "execution_count": 29,
   "metadata": {
    "collapsed": true
   },
   "outputs": [],
   "source": [
    "def login():\n",
    "    global s\n",
    "    s = requests.Session()\n",
    "    s.headers.update({\n",
    "            'Accept': 'text/html,application/xhtml+xml,application/xml;q=0.9,image/webp,*/*;q=0.8',\n",
    "            'Accept-Encoding': 'gzip, deflate, sdch',\n",
    "            'Accept-Language': 'en-US,en;q=0.8',\n",
    "            'Connection': 'keep-alive',\n",
    "            'User-Agent': 'Mozilla/5.0 (Windows NT 6.1; WOW64) AppleWebKit/537.36 (KHTML, like Gecko) Chrome/39.0.2171.95 Safari/537.36'\n",
    "        })\n",
    "    s.mount('http://', requests.adapters.HTTPAdapter(max_retries=5))\n",
    "    s.post(\n",
    "        'http://spring.ura.gov.sg/lad/ore/login/login_action.cfm',\n",
    "        data={'Username': 'allproperty', 'password': 'lf456789', 'Submit': 'Login'},\n",
    "        )\n",
    "    try:\n",
    "        s.cookies['CFID']\n",
    "    except KeyError:\n",
    "        raise Exception('Not able to login')"
   ]
  },
  {
   "cell_type": "code",
   "execution_count": 24,
   "metadata": {
    "collapsed": true
   },
   "outputs": [],
   "source": [
    "def logout():\n",
    "    global s\n",
    "    s.get('http://spring.ura.gov.sg/lad/ore/property_market/logout.cfm')"
   ]
  },
  {
   "cell_type": "code",
   "execution_count": 31,
   "metadata": {
    "collapsed": true
   },
   "outputs": [],
   "source": [
    "def exec_():\n",
    "    login()\n",
    "    start_month = \"2015-07\"\n",
    "    months = 2\n",
    "    try:\n",
    "        t = GuruTable(table_name='stg_txn_ura_sales').truncate()\n",
    "        try:\n",
    "            last = datetime.strptime(start_month, '%Y-%m')\n",
    "            last = last.date()\n",
    "        except ValueError:\n",
    "            last = date.today() - rdt(day=1)\n",
    "        for x in range(months):\n",
    "            try:\n",
    "                scrape(last - rdt(months=x), t)\n",
    "            except AttributeError:\n",
    "                pass\n",
    "            break\n",
    "        print(last)\n",
    "    finally:\n",
    "        logout()"
   ]
  },
  {
   "cell_type": "code",
   "execution_count": 28,
   "metadata": {
    "collapsed": false
   },
   "outputs": [
    {
     "name": "stdout",
     "output_type": "stream",
     "text": [
      "890558\n",
      "2015-07-01\n"
     ]
    }
   ],
   "source": [
    "exec_()"
   ]
  }
 ],
 "metadata": {
  "kernelspec": {
   "display_name": "Python 3",
   "language": "python",
   "name": "python3"
  },
  "language_info": {
   "codemirror_mode": {
    "name": "ipython",
    "version": 3
   },
   "file_extension": ".py",
   "mimetype": "text/x-python",
   "name": "python",
   "nbconvert_exporter": "python",
   "pygments_lexer": "ipython3",
   "version": "3.4.3"
  }
 },
 "nbformat": 4,
 "nbformat_minor": 0
}
