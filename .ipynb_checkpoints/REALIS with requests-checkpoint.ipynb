{
 "cells": [
  {
   "cell_type": "code",
   "execution_count": 15,
   "metadata": {
    "collapsed": true
   },
   "outputs": [],
   "source": [
    "import site\n",
    "site.addsitedir(\"/var/www/data-prototyping/\")\n",
    "\n",
    "from selenium import webdriver\n",
    "from selenium.webdriver.support.ui import Select\n",
    "from pyvirtualdisplay import Display\n",
    "import requests\n",
    "import sys\n",
    "import os\n",
    "from pygurujobs.job import JOBNAMES,auto_import\n",
    "from pygurucore.tables import GuruTable\n",
    "import shutil\n",
    "import csv\n",
    "import pandas as pd\n",
    "import bs4"
   ]
  },
  {
   "cell_type": "code",
   "execution_count": 20,
   "metadata": {
    "collapsed": true
   },
   "outputs": [],
   "source": [
    "def login():\n",
    "    global s\n",
    "    s = requests.Session()\n",
    "    s.headers.update({\n",
    "            'Accept': 'text/html,application/xhtml+xml,application/xml;q=0.9,image/webp,*/*;q=0.8',\n",
    "            'Accept-Encoding': 'gzip, deflate, sdch',\n",
    "            'Accept-Language': 'en-US,en;q=0.8',\n",
    "            'Connection': 'keep-alive',\n",
    "            'User-Agent': 'Mozilla/5.0 (Windows NT 6.1; WOW64) AppleWebKit/537.36 (KHTML, like Gecko) Chrome/39.0.2171.95 Safari/537.36'\n",
    "        })\n",
    "    s.mount('http://', requests.adapters.HTTPAdapter(max_retries=5))\n",
    "    s.post(\n",
    "        'http://spring.ura.gov.sg/lad/ore/login/login_action.cfm',\n",
    "        data={'Username': 'allproperty', 'password': 'lf456789', 'Submit': 'Login'},\n",
    "        )\n",
    "    try:\n",
    "        s.cookies['CFID']\n",
    "    except KeyError:\n",
    "        raise Exception('Not able to login')\n",
    "        \n",
    "def logout():\n",
    "    global s\n",
    "    s.get('http://spring.ura.gov.sg/lad/ore/property_market/logout.cfm')"
   ]
  },
  {
   "cell_type": "code",
   "execution_count": 29,
   "metadata": {
    "collapsed": false
   },
   "outputs": [],
   "source": [
    "login()"
   ]
  },
  {
   "cell_type": "code",
   "execution_count": 30,
   "metadata": {
    "collapsed": false
   },
   "outputs": [],
   "source": [
    "r = s.get('https://spring.ura.gov.sg//lad/ore/property_market/project/project_resi_search_projdetail.cfm')"
   ]
  },
  {
   "cell_type": "code",
   "execution_count": 25,
   "metadata": {
    "collapsed": true
   },
   "outputs": [],
   "source": [
    "soup = bs4.BeautifulSoup(r.content)"
   ]
  },
  {
   "cell_type": "code",
   "execution_count": 31,
   "metadata": {
    "collapsed": false
   },
   "outputs": [
    {
     "ename": "SyntaxError",
     "evalue": "invalid syntax (<ipython-input-31-2c266cb2ad7c>, line 15)",
     "output_type": "error",
     "traceback": [
      "\u001b[1;36m  File \u001b[1;32m\"<ipython-input-31-2c266cb2ad7c>\"\u001b[1;36m, line \u001b[1;32m15\u001b[0m\n\u001b[1;33m    'quicksearch':,\u001b[0m\n\u001b[1;37m                  ^\u001b[0m\n\u001b[1;31mSyntaxError\u001b[0m\u001b[1;31m:\u001b[0m invalid syntax\n"
     ]
    }
   ],
   "source": [
    "s.post(\n",
    "    'https://spring.ura.gov.sg//lad/ore/property_market/project/Project_Resi_Process.cfm',\n",
    "    data={\n",
    "        'all_pytype':'Detached%2BSemi_Detached%2BTerrace%29',\n",
    "        'selected_pytype':'%28Total_Units-Exec_Condominium%29',\n",
    "        'selected_pytype':'%28Detached%2BSemi_Detached%2BTerrace%29',\n",
    "        'selected_pytype':'Detached',\n",
    "        'selected_pytype':'Semi_Detached',\n",
    "        'selected_pytype':'Terrace',\n",
    "        'selected_pytype':'%28Apartment%2BCondominium%29',\n",
    "        'selected_pytype':'Apartment',\n",
    "        'selected_pytype':'Condominium',\n",
    "        'selected_pytype':'Exec_Condominium',\n",
    "        'locality':'stzone',\n",
    "        'quicksearch':'',\n",
    "        'submit_type':'submit',\n",
    "        'units_from':'',\n",
    "        'units_to':'',\n",
    "        'year':'2010',\n",
    "        'quarter':'2'\n",
    "        'text':'',\n",
    "        'selected_pytype_hidden':'%3CwddxPacket+version%3D%271.0%27%3E%3Cheader%2F%3E%3Cdata%3E%3Carray+length%3D%272%27%3E%3Carray+length%3D%279%27%3E%3Cstring%3EAll+Landed%2C+Non-Landed+%28exclude+EC%29%3C%2Fstring%3E%3Cstring%3ELanded+-+All%3C%2Fstring%3E%3Cstring%3ELanded+-+Detached%3C%2Fstring%3E%3Cstring%3ELanded+-+Semi+Detached%3C%2Fstring%3E%3Cstring%3ELanded+-+Terrace%3C%2Fstring%3E%3Cstring%3ENon-Landed+-+All+%28exclude+EC%29%3C%2Fstring%3E%3Cstring%3ENon-Landed+-+Apartment%3C%2Fstring%3E%3Cstring%3ENon-Landed+-+Condominium%3C%2Fstring%3E%3Cstring%3EExecutive+Condominium%3C%2Fstring%3E%3C%2Farray%3E%3Carray+length%3D%279%27%3E%3Cstring%3E%28Total_Units-Exec_Condominium%29%3C%2Fstring%3E%3Cstring%3E%28Detached%2BSemi_Detached%2BTerrace%29%3C%2Fstring%3E%3Cstring%3EDetached%3C%2Fstring%3E%3Cstring%3ESemi_Detached%3C%2Fstring%3E%3Cstring%3ETerrace%3C%2Fstring%3E%3Cstring%3E%28Apartment%2BCondominium%29%3C%2Fstring%3E%3Cstring%3EApartment%3C%2Fstring%3E%3Cstring%3ECondominium%3C%2Fstring%3E%3Cstring%3EExec_Condominium%3C%2Fstring%3E%3C%2Farray%3E%3C%2Farray%3E%3C%2Fdata%3E%3C%2FwddxPacket%3E&',\n",
    "        'selected_region_hidden':'',\n",
    "        'selected_dgp_hidden':'',\n",
    "        'selected_stzone_hidden':'',\n",
    "        'selected_pdlist_hidden':'',\n",
    "        'selected_sectorlist_hidden':'',\n",
    "        'selected_mslist_hidden':'',\n",
    "        'search':'projdetail'\n",
    "        }\n",
    "    )\n",
    "s.get('https://spring.ura.gov.sg//lad/ore/property_market/project/Project_getCSV.cfm?filename=05082015130846_1_allproperty.csv')"
   ]
  },
  {
   "cell_type": "code",
   "execution_count": 28,
   "metadata": {
    "collapsed": false
   },
   "outputs": [],
   "source": [
    "logout()"
   ]
  },
  {
   "cell_type": "code",
   "execution_count": 14,
   "metadata": {
    "collapsed": false
   },
   "outputs": [
    {
     "data": {
      "text/plain": [
       "<Response [200]>"
      ]
     },
     "execution_count": 14,
     "metadata": {},
     "output_type": "execute_result"
    }
   ],
   "source": [
    "requests.get('http://spring.ura.gov.sg/lad/ore/property_market/logout.cfm')"
   ]
  }
 ],
 "metadata": {
  "kernelspec": {
   "display_name": "Python 3",
   "language": "python",
   "name": "python3"
  },
  "language_info": {
   "codemirror_mode": {
    "name": "ipython",
    "version": 3
   },
   "file_extension": ".py",
   "mimetype": "text/x-python",
   "name": "python",
   "nbconvert_exporter": "python",
   "pygments_lexer": "ipython3",
   "version": "3.4.3"
  }
 },
 "nbformat": 4,
 "nbformat_minor": 0
}
