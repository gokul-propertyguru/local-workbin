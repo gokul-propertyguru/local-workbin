{
 "cells": [
  {
   "cell_type": "code",
   "execution_count": 4,
   "metadata": {
    "collapsed": true
   },
   "outputs": [],
   "source": [
    "import site\n",
    "site.addsitedir(\"/var/www/data-prototyping/\")\n",
    "\n",
    "import os\n",
    "import pandas as pd\n",
    "import sys\n",
    "from datetime import date, datetime\n",
    "from pygurucore.tables import GuruTable"
   ]
  },
  {
   "cell_type": "code",
   "execution_count": 22,
   "metadata": {
    "collapsed": false
   },
   "outputs": [
    {
     "name": "stdout",
     "output_type": "stream",
     "text": [
      "['2002Q3.csv', '2002Q4.csv', '2003Q1.csv', '2003Q2.csv', '2003Q3.csv', '2003Q4.csv', '2004Q1.csv', '2004Q2.csv', '2004Q3.csv', '2004Q4.csv', '2005Q1.csv', '2005Q2.csv', '2005Q3.csv', '2005Q4.csv', '2006Q1.csv', '2006Q2.csv', '2006Q3.csv', '2006Q4.csv', '2007Q1.csv', '2007Q2.csv', '2007Q3.csv', '2007Q4.csv', '2008Q1.csv', '2008Q2.csv', '2008Q3.csv', '2008Q4.csv', '2009Q1.csv', '2009Q2.csv', '2009Q3.csv', '2009Q4.csv', '2010Q1.csv', '2010Q2.csv', '2010Q3.csv', '2010Q4.csv', '2011Q1.csv', '2011Q2.csv', '2011Q3.csv', '2011Q4.csv', '2012Q1.csv', '2012Q2.csv', '2012Q3.csv', '2012Q4.csv', '2013Q1.csv', '2013Q2.csv', '2013Q3.csv', '2013Q4.csv', '2014Q1.csv', '2014Q2.csv', '2014Q3.csv', '2014Q4.csv', '2015Q1.csv', '2015Q2.csv']\n"
     ]
    }
   ],
   "source": [
    "files = os.listdir(os.getcwd() + os.sep + \"realis_data\")\n",
    "\n",
    "cols = [\"project_name\",\"street_name\",\"developer\",\"total_units\",\"no_detached\",\"no_semi_detached\",\"no_terrace\",\"no_apartments\",\"no_condos\",\"no_exec_condo\",\"total_planned\",\"total_under_constr\",\"total_TOP\",\"uncomp_wo_pre_requisites\",\"uncomp_w_pre_requisites\",\"uncomp_w_pre_requisites_not_launched\",\"uncomp_w_pre_requisites_launched\",\"uncomp_w_pre_requisites_sold\",\"uncomp_w_pre_requisites_launched_unsold\",\"comp_w_pre_requisites\",\"comp_w_pre_requisites_sold\",\"comp_w_pre_requisites_unsold\",\"written_permission_date\"]\n",
    "t = GuruTable(table_name='realis_ura_status').truncate()\n",
    "for f in files:\n",
    "    df = pd.read_csv(os.getcwd() + os.sep + \"realis_data\" + os.sep + f, encoding = \"ISO-8859-1\")\n",
    "    df.columns=cols\n",
    "    df[\"year\"] = int(f[0:4])\n",
    "    df[\"quarter\"] = int(f[5])\n",
    "    df[\"modified_date\"]=datetime.now()\n",
    "    df.insert_sql(t,1000,False)"
   ]
  }
 ],
 "metadata": {
  "kernelspec": {
   "display_name": "Python 3",
   "language": "python",
   "name": "python3"
  },
  "language_info": {
   "codemirror_mode": {
    "name": "ipython",
    "version": 3
   },
   "file_extension": ".py",
   "mimetype": "text/x-python",
   "name": "python",
   "nbconvert_exporter": "python",
   "pygments_lexer": "ipython3",
   "version": "3.4.3"
  }
 },
 "nbformat": 4,
 "nbformat_minor": 0
}
