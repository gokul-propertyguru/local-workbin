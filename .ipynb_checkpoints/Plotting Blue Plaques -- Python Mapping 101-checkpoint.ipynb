{
 "cells": [
  {
   "cell_type": "code",
   "execution_count": 5,
   "metadata": {
    "collapsed": false
   },
   "outputs": [],
   "source": [
    "from lxml import etree\n",
    "import pandas as pd\n",
    "import numpy as np\n",
    "import matplotlib.pyplot as plt\n",
    "import matplotlib.cm as cm\n",
    "from matplotlib.colors import Normalize\n",
    "from matplotlib.collections import PathCollection\n",
    "from mpl_toolkits.basemap import Basemap\n",
    "from pysal.esda.mapclassify import Natural_Breaks as nb\n",
    "from descartes import PolygonPatch\n",
    "from itertools import chain\n",
    "import fiona\n",
    "from shapely.geometry import Point,Polygon,MultiPoint,MultiPolygon\n",
    "from shapely.prepared import prep"
   ]
  },
  {
   "cell_type": "code",
   "execution_count": 7,
   "metadata": {
    "collapsed": false
   },
   "outputs": [
    {
     "data": {
      "text/plain": [
       "<Element openplaques at 0x7ffa98b5e4d0>"
      ]
     },
     "execution_count": 7,
     "metadata": {},
     "output_type": "execute_result"
    }
   ],
   "source": [
    "tree = etree.parse(\"data\\london_20131229.xml\")\n",
    "root = tree.getroot()\n",
    "\n",
    "output = dict()\n",
    "output[\"raw\"]=[]\n",
    "output[\"crs\"]=[]\n",
    "output[\"lon\"]=[]\n",
    "output[\"lat\"]=[]\n",
    "\n",
    "for each in root.xpath(\"openplaques/plaque/geo\"):\n",
    "    #chack what we got back\n",
    "    output[\"crs\"].append(each.get('reference_system'))\n",
    "    output[\"lat\"].append(each.get('latitude'))\n",
    "    output[\"lon\"].append(each.get('longitude'))\n",
    "    #go back upto plaque\n",
    "    r = each.getparent().xpath('inscription/raw')[0]\n",
    "    if isinstance(r.text,str):\n",
    "        output['raw'].append(r.text.lstrip().rstrip())\n",
    "    else:\n",
    "        output['raw'].append(None)\n",
    "           "
   ]
  }
 ],
 "metadata": {
  "kernelspec": {
   "display_name": "Python 2",
   "language": "python",
   "name": "python2"
  },
  "language_info": {
   "codemirror_mode": {
    "name": "ipython",
    "version": 2
   },
   "file_extension": ".py",
   "mimetype": "text/x-python",
   "name": "python",
   "nbconvert_exporter": "python",
   "pygments_lexer": "ipython2",
   "version": "2.7.10"
  }
 },
 "nbformat": 4,
 "nbformat_minor": 0
}
