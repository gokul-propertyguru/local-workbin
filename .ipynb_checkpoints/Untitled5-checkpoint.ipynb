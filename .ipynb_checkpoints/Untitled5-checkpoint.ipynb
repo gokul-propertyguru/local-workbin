{
 "cells": [
  {
   "cell_type": "code",
   "execution_count": 1,
   "metadata": {
    "collapsed": false
   },
   "outputs": [],
   "source": [
    "import requests\n",
    "import json\n",
    "import pandas as pd\n",
    "import urllib.request as urllib\n",
    "import SVY21"
   ]
  },
  {
   "cell_type": "code",
   "execution_count": 2,
   "metadata": {
    "collapsed": false
   },
   "outputs": [
    {
     "data": {
      "text/plain": [
       "'{\"SearchResults\":[{\"PageCount\":\"0\"},{\"SEARCHVAL\":\"CITY HALL\",\"CATEGORY\":\"Building\",\"X\":\"30047.6750\",\"Y\":\"30339.5772\"},{\"SEARCHVAL\":\"CITY HALL MRT STATION\",\"CATEGORY\":\"Building\",\"X\":\"30144.2851\",\"Y\":\"30591.8478\"},{\"SEARCHVAL\":\"CITY HALL MRT STATION (EW13/NS25) (FRIENDLY BUILDINGS)\",\"CATEGORY\":\"Community\",\"X\":\"30139.4707\",\"Y\":\"30597.7820\"},{\"SEARCHVAL\":\"CITY HALL MRT STATION (NSL & EWL) (WIRELESS HOTSPOTS)\",\"CATEGORY\":\"Recreation\",\"X\":\"30139.4707\",\"Y\":\"30597.7820\"},{\"SEARCHVAL\":\"CITY HALL MRT STATION (SAM KIOSK)\",\"CATEGORY\":\"Community\",\"X\":\"30139.4707\",\"Y\":\"30597.7820\"},{\"SEARCHVAL\":\"CITY HALL MRT STATION EXIT A\",\"CATEGORY\":\"Building\",\"X\":\"30182.8492\",\"Y\":\"30611.1767\"},{\"SEARCHVAL\":\"CITY HALL MRT STATION EXIT B\",\"CATEGORY\":\"Building\",\"X\":\"30073.6413\",\"Y\":\"30610.8982\"},{\"SEARCHVAL\":\"CITY HALL MRT STATION, 150 NORTH BRIDGE ROAD, SINGAPORE 179100 (AXS STATION)\",\"CATEGORY\":\"Community\",\"X\":\"30102.4512\",\"Y\":\"30625.1037\"},{\"SEARCHVAL\":\"CITY HALL/ESPLANADE MRT STATION EXIT A\",\"CATEGORY\":\"Building\",\"X\":\"30369.4938\",\"Y\":\"30415.3350\"},{\"SEARCHVAL\":\"CITY HALL/ESPLANADE MRT STATION EXIT B\",\"CATEGORY\":\"Building\",\"X\":\"30385.8054\",\"Y\":\"30457.5147\"},{\"SEARCHVAL\":\"CITY HALL/ESPLANADE MRT STATION EXIT C\",\"CATEGORY\":\"Building\",\"X\":\"30434.3890\",\"Y\":\"30412.5744\"},{\"SEARCHVAL\":\"CITY HALL/ESPLANADE MRT STATION EXIT D\",\"CATEGORY\":\"Building\",\"X\":\"30424.1965\",\"Y\":\"30367.6908\"},{\"SEARCHVAL\":\"CITY HALL/ESPLANADE MRT STATION EXIT E\",\"CATEGORY\":\"Building\",\"X\":\"30394.6855\",\"Y\":\"30479.6293\"}]}'"
      ]
     },
     "execution_count": 2,
     "metadata": {},
     "output_type": "execute_result"
    }
   ],
   "source": [
    "url =\"http://www.onemap.sg/API/services.svc/basicSearch?token=r+zOV0fShrbiP9v8ihEZCgfv0zcBlTaROMXwJAh2Og29bkct3IHbReXrOIUBcSNnyTaW0t1BIGl5tVpJesMm0eCNa8ga3Lex|3Aq1GbPZzAY=&searchVal=City%20Hall&otptFlds=SEARCHVAL%2cCATEGORY&returnGeom=1&rset=1\"\n",
    "r = requests.get(url)\n",
    "r.text"
   ]
  },
  {
   "cell_type": "code",
   "execution_count": 3,
   "metadata": {
    "collapsed": false
   },
   "outputs": [],
   "source": [
    "d = dict(json.loads(r.text))"
   ]
  },
  {
   "cell_type": "code",
   "execution_count": 4,
   "metadata": {
    "collapsed": true
   },
   "outputs": [],
   "source": [
    "df = pd.read_csv(\"subzone_analysis/planning_areas.csv\")"
   ]
  },
  {
   "cell_type": "code",
   "execution_count": 5,
   "metadata": {
    "collapsed": false
   },
   "outputs": [],
   "source": [
    "planning_areas = list(df[\"Planning Areas\"])\n",
    "planning_area_mapped = pd.DataFrame(columns=[\"area\",\"mapping\"])\n",
    "planning_area_list = []\n",
    "for area in planning_areas:\n",
    "    area = urllib.quote(area)\n",
    "    url = \"http://www.onemap.sg/API/services.svc/basicSearch?token=r+zOV0fShrbiP9v8ihEZCgfv0zcBlTaROMXwJAh2Og29bkct3IHbReXrOIUBcSNnyTaW0t1BIGl5tVpJesMm0eCNa8ga3Lex|3Aq1GbPZzAY=&searchVal=\"+area+\"&otptFlds=SEARCHVAL%2cCATEGORY&returnGeom=1&rset=1\"\n",
    "    r = requests.get(url)\n",
    "    d = dict(json.loads(r.text))\n",
    "    planning_area_list.append({\"area\":urllib.unquote(area),\"mapping\":d[\"SearchResults\"][1:]})"
   ]
  },
  {
   "cell_type": "code",
   "execution_count": 6,
   "metadata": {
    "collapsed": false
   },
   "outputs": [
    {
     "data": {
      "text/html": [
       "<div style=\"max-height:1000px;max-width:1500px;overflow:auto;\">\n",
       "<table border=\"1\" class=\"dataframe\">\n",
       "  <thead>\n",
       "    <tr style=\"text-align: right;\">\n",
       "      <th></th>\n",
       "      <th>area</th>\n",
       "      <th>mapping</th>\n",
       "    </tr>\n",
       "  </thead>\n",
       "  <tbody>\n",
       "    <tr>\n",
       "      <th>0</th>\n",
       "      <td>  Ang Mo Kio</td>\n",
       "      <td> [{'CATEGORY': 'Community', 'Y': '39883.5099', ...</td>\n",
       "    </tr>\n",
       "    <tr>\n",
       "      <th>1</th>\n",
       "      <td>       Bedok</td>\n",
       "      <td> [{'CATEGORY': 'Family', 'Y': '34445.0664', 'X'...</td>\n",
       "    </tr>\n",
       "    <tr>\n",
       "      <th>2</th>\n",
       "      <td>      Bishan</td>\n",
       "      <td> [{'CATEGORY': 'Building', 'Y': '36826.9085', '...</td>\n",
       "    </tr>\n",
       "    <tr>\n",
       "      <th>3</th>\n",
       "      <td>    Boon Lay</td>\n",
       "      <td> [{'CATEGORY': 'CATC', 'Y': '36578.8645', 'X': ...</td>\n",
       "    </tr>\n",
       "    <tr>\n",
       "      <th>4</th>\n",
       "      <td> Bukit Batok</td>\n",
       "      <td> [{'CATEGORY': 'CATB', 'Y': '36460.4328', 'X': ...</td>\n",
       "    </tr>\n",
       "  </tbody>\n",
       "</table>\n",
       "</div>"
      ],
      "text/plain": [
       "          area                                            mapping\n",
       "0   Ang Mo Kio  [{'CATEGORY': 'Community', 'Y': '39883.5099', ...\n",
       "1        Bedok  [{'CATEGORY': 'Family', 'Y': '34445.0664', 'X'...\n",
       "2       Bishan  [{'CATEGORY': 'Building', 'Y': '36826.9085', '...\n",
       "3     Boon Lay  [{'CATEGORY': 'CATC', 'Y': '36578.8645', 'X': ...\n",
       "4  Bukit Batok  [{'CATEGORY': 'CATB', 'Y': '36460.4328', 'X': ..."
      ]
     },
     "execution_count": 6,
     "metadata": {},
     "output_type": "execute_result"
    }
   ],
   "source": [
    "planning_area_mapped = pd.DataFrame(planning_area_list)\n",
    "planning_area_mapped.head()"
   ]
  },
  {
   "cell_type": "code",
   "execution_count": 7,
   "metadata": {
    "collapsed": true
   },
   "outputs": [],
   "source": [
    "planning_area_mapped.to_csv(\"subzone_analysis/planning_areas_mapped.csv\",index=False)"
   ]
  },
  {
   "cell_type": "code",
   "execution_count": 21,
   "metadata": {
    "collapsed": true
   },
   "outputs": [],
   "source": [
    "def getCoordinates(result):\n",
    "    #Accepts input as returned by one map sg.\n",
    "    #Pgm to convert the SVY21 format to lat,long\n",
    "    if result is None:\n",
    "        return -1\n",
    "    coordinate_list = []\n",
    "    cv = SVY21.SVY21()\n",
    "    for x in result:\n",
    "        coordinate_list.append(cv.computeLatLon(float(x[\"X\"]),float(x[\"Y\"])))\n",
    "    return coordinate_list\n",
    "\n",
    "def getCentroid(vertices):\n",
    "    #Accepts the vertices of a triangle and returns the centroid\n",
    "    if vertices is None:\n",
    "        return -1\n",
    "    lat=0\n",
    "    lon=0\n",
    "    for v in vertices:\n",
    "        lat+=v[0]\n",
    "        lon+=v[1]\n",
    "    return((lat/3,lon/3))"
   ]
  },
  {
   "cell_type": "code",
   "execution_count": 27,
   "metadata": {
    "collapsed": false
   },
   "outputs": [],
   "source": [
    "coordinates = []\n",
    "centroids = []\n",
    "for i,row in planning_area_mapped.iterrows():\n",
    "    v = getCoordinates(row.mapping[:3])\n",
    "    c = getCentroid(v)\n",
    "    #if c[0]==0.0 and c[1]==0.0:\n",
    "        #print(row)\n",
    "    coordinates.append(v)\n",
    "    centroids.append(c)   "
   ]
  },
  {
   "cell_type": "code",
   "execution_count": 29,
   "metadata": {
    "collapsed": false
   },
   "outputs": [
    {
     "data": {
      "text/html": [
       "<div style=\"max-height:1000px;max-width:1500px;overflow:auto;\">\n",
       "<table border=\"1\" class=\"dataframe\">\n",
       "  <thead>\n",
       "    <tr style=\"text-align: right;\">\n",
       "      <th></th>\n",
       "      <th>area</th>\n",
       "      <th>mapping</th>\n",
       "      <th>coordinates</th>\n",
       "      <th>centroids</th>\n",
       "    </tr>\n",
       "  </thead>\n",
       "  <tbody>\n",
       "    <tr>\n",
       "      <th>0</th>\n",
       "      <td> Ang Mo Kio</td>\n",
       "      <td> [{'CATEGORY': 'Community', 'Y': '39883.5099', ...</td>\n",
       "      <td> [(1.306992406960621, 103.94009716379405), (1.2...</td>\n",
       "      <td> (1.2897709501968155, 103.93310433205563)</td>\n",
       "    </tr>\n",
       "    <tr>\n",
       "      <th>1</th>\n",
       "      <td>      Bedok</td>\n",
       "      <td> [{'CATEGORY': 'Family', 'Y': '34445.0664', 'X'...</td>\n",
       "      <td> [(1.358055627945516, 103.89123141066254), (1.3...</td>\n",
       "      <td> (1.3832591352927686, 103.90234932513982)</td>\n",
       "    </tr>\n",
       "  </tbody>\n",
       "</table>\n",
       "</div>"
      ],
      "text/plain": [
       "         area                                            mapping  \\\n",
       "0  Ang Mo Kio  [{'CATEGORY': 'Community', 'Y': '39883.5099', ...   \n",
       "1       Bedok  [{'CATEGORY': 'Family', 'Y': '34445.0664', 'X'...   \n",
       "\n",
       "                                         coordinates  \\\n",
       "0  [(1.306992406960621, 103.94009716379405), (1.2...   \n",
       "1  [(1.358055627945516, 103.89123141066254), (1.3...   \n",
       "\n",
       "                                  centroids  \n",
       "0  (1.2897709501968155, 103.93310433205563)  \n",
       "1  (1.3832591352927686, 103.90234932513982)  "
      ]
     },
     "execution_count": 29,
     "metadata": {},
     "output_type": "execute_result"
    }
   ],
   "source": [
    "planning_area_mapped[\"coordinates\"]=coordinates\n",
    "planning_area_mapped[\"centroids\"]=centroids\n",
    "planning_area_mapped.to_csv(\"subzone_analysis/planning_areas_mapped.csv\",index=False)\n",
    "planning_area_mapped.head(2)"
   ]
  },
  {
   "cell_type": "code",
   "execution_count": 134,
   "metadata": {
    "collapsed": false
   },
   "outputs": [
    {
     "data": {
      "text/plain": [
       "(1.2833271013502536, 103.91983568201547)"
      ]
     },
     "execution_count": 134,
     "metadata": {},
     "output_type": "execute_result"
    }
   ],
   "source": [
    "cv = SVY21.SVY21()\n",
    "(lat, lon) = cv.computeLatLon(29529.5469, 37628.6810)\n",
    "(lat, lon)"
   ]
  },
  {
   "cell_type": "code",
   "execution_count": 18,
   "metadata": {
    "collapsed": false
   },
   "outputs": [],
   "source": [
    "x = [(1.0872311974818616, 103.880672422365),\n",
    "  (1.088180660820765, 103.89255803899543),\n",
    "  (1.0827319818015513, 103.89438439434028)]"
   ]
  },
  {
   "cell_type": "code",
   "execution_count": 19,
   "metadata": {
    "collapsed": false
   },
   "outputs": [
    {
     "data": {
      "text/plain": [
       "(1.0860479467013926, 103.88920495190023)"
      ]
     },
     "execution_count": 19,
     "metadata": {},
     "output_type": "execute_result"
    }
   ],
   "source": [
    "getCentroid(x)"
   ]
  }
 ],
 "metadata": {
  "kernelspec": {
   "display_name": "Python 3",
   "language": "python",
   "name": "python3"
  },
  "language_info": {
   "codemirror_mode": {
    "name": "ipython",
    "version": 3
   },
   "file_extension": ".py",
   "mimetype": "text/x-python",
   "name": "python",
   "nbconvert_exporter": "python",
   "pygments_lexer": "ipython3",
   "version": "3.4.3"
  }
 },
 "nbformat": 4,
 "nbformat_minor": 0
}
