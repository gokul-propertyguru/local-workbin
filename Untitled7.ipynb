{
 "cells": [
  {
   "cell_type": "code",
   "execution_count": 9,
   "metadata": {
    "collapsed": false
   },
   "outputs": [],
   "source": [
    "import sys\n",
    "import os\n",
    "import argparse\n",
    "import site\n",
    "site.addsitedir(\"/var/www/data-prototyping/\")\n",
    "from pygurujobs.job import JOBNAMES, auto_import"
   ]
  },
  {
   "cell_type": "code",
   "execution_count": 13,
   "metadata": {
    "collapsed": false
   },
   "outputs": [
    {
     "data": {
      "text/plain": [
       "{'asking_price_index': pygurujobs.job.smartselect.AskingPriceIndex,\n",
       " 'clean_backup': pygurujobs.job.clean_backup.CleanBackup,\n",
       " 'clean_sale_listing': pygurujobs.job.smartselect.CleanSaleListing,\n",
       " 'distance_poi': pygurujobs.job.smartselect.ListingDistanceFromPoi,\n",
       " 'example': pygurujobs.job.job_example.JobExample,\n",
       " 'failure_example': pygurujobs.job.job_example.JobExampleFailure,\n",
       " 'import_fortyto': pygurujobs.job.import_fortyto.ImportFortyTo,\n",
       " 'import_privateunits_sold': pygurujobs.job.import_privateunits_sold.ImportPrivateUnitsSold,\n",
       " 'import_sibor': pygurujobs.job.import_sibor.ImportSibor,\n",
       " 'import_ura_sales': pygurujobs.job.import_ura_sales.ImportURASales,\n",
       " 'import_ura_sales_bak': pygurujobs.job.import_ura_sales_bak.ImportURASales,\n",
       " 'php_wrapper': pygurujobs.job.php_wrapper.PHPWrapper,\n",
       " 'refresh_postcode_coordinate': pygurujobs.job.refresh_postcode_coordinate.RefreshPostcodeCoordinate,\n",
       " 'regional_price_index_condo': pygurujobs.job.regional_price_index.RegionalPriceIndexCondo,\n",
       " 'regional_price_index_hdb': pygurujobs.job.regional_price_index.RegionalPriceIndexHDB,\n",
       " 'smartselect': pygurujobs.job.smartselect.SmartSelectInternational,\n",
       " 'test_orig_picture': pygurujobs.job.orig_picture.TestOrigImage,\n",
       " 'transactor_accounting': pygurujobs.job.transactor_accounting.TransactorAccounting,\n",
       " 'transactor_listing_aggregate': pygurujobs.job.transactor_listing_aggregate.TransactorListingAggregate,\n",
       " 'transfer_olap_sales_ura_types': pygurujobs.job.transfer_olap_sales_ura_types.TransferOlapSalesUraTypes,\n",
       " 'transfer_table': pygurujobs.job.transfer_table.TransferTable,\n",
       " 'transfer_v_listing': pygurujobs.job.transfer_v_listing.TransferTable}"
      ]
     },
     "execution_count": 13,
     "metadata": {},
     "output_type": "execute_result"
    }
   ],
   "source": [
    "JOBNAMES"
   ]
  },
  {
   "cell_type": "code",
   "execution_count": 12,
   "metadata": {
    "collapsed": false
   },
   "outputs": [
    {
     "ename": "SyntaxError",
     "evalue": "invalid syntax (<ipython-input-12-361b7e6807e8>, line 1)",
     "output_type": "error",
     "traceback": [
      "\u001b[1;36m  File \u001b[1;32m\"<ipython-input-12-361b7e6807e8>\"\u001b[1;36m, line \u001b[1;32m1\u001b[0m\n\u001b[1;33m    auto_import()?\u001b[0m\n\u001b[1;37m                 ^\u001b[0m\n\u001b[1;31mSyntaxError\u001b[0m\u001b[1;31m:\u001b[0m invalid syntax\n"
     ]
    }
   ],
   "source": [
    "auto_import"
   ]
  }
 ],
 "metadata": {
  "kernelspec": {
   "display_name": "Python 3",
   "language": "python",
   "name": "python3"
  },
  "language_info": {
   "codemirror_mode": {
    "name": "ipython",
    "version": 3
   },
   "file_extension": ".py",
   "mimetype": "text/x-python",
   "name": "python",
   "nbconvert_exporter": "python",
   "pygments_lexer": "ipython3",
   "version": "3.4.3"
  }
 },
 "nbformat": 4,
 "nbformat_minor": 0
}
