{
 "cells": [
  {
   "cell_type": "code",
   "execution_count": 1,
   "metadata": {
    "collapsed": true
   },
   "outputs": [],
   "source": [
    "import site\n",
    "site.addsitedir(\"/var/www/data-prototyping/\")\n",
    "\n",
    "from selenium import webdriver\n",
    "from selenium.webdriver.support.ui import Select\n",
    "from pyvirtualdisplay import Display\n",
    "import requests\n",
    "import sys\n",
    "import os\n",
    "from pygurujobs.job import JOBNAMES,auto_import\n",
    "from pygurucore.tables import GuruTable\n",
    "import shutil\n",
    "import csv\n",
    "import pandas as pd\n",
    "import bs4\n",
    "import io"
   ]
  },
  {
   "cell_type": "code",
   "execution_count": 2,
   "metadata": {
    "collapsed": true
   },
   "outputs": [],
   "source": [
    "def login():\n",
    "    global s\n",
    "    s = requests.Session()\n",
    "    s.headers.update({\n",
    "            'Accept': 'text/html,application/xhtml+xml,application/xml;q=0.9,image/webp,*/*;q=0.8',\n",
    "            'Accept-Encoding': 'gzip, deflate, sdch',\n",
    "            'Accept-Language': 'en-US,en;q=0.8',\n",
    "            'Connection': 'keep-alive',\n",
    "            'User-Agent': 'Mozilla/5.0 (Windows NT 6.1; WOW64) AppleWebKit/537.36 (KHTML, like Gecko) Chrome/39.0.2171.95 Safari/537.36'\n",
    "        })\n",
    "    s.mount('http://', requests.adapters.HTTPAdapter(max_retries=5))\n",
    "    s.post(\n",
    "        'http://spring.ura.gov.sg/lad/ore/login/login_action.cfm',\n",
    "        data={'Username': 'allproperty', 'password': 'lf456789', 'Submit': 'Login'},\n",
    "        )\n",
    "    try:\n",
    "        s.cookies['CFID']\n",
    "    except KeyError:\n",
    "        raise Exception('Not able to login')\n",
    "        \n",
    "def logout():\n",
    "    global s\n",
    "    s.get('http://spring.ura.gov.sg/lad/ore/property_market/logout.cfm')"
   ]
  },
  {
   "cell_type": "code",
   "execution_count": 3,
   "metadata": {
    "collapsed": false
   },
   "outputs": [],
   "source": [
    "login()"
   ]
  },
  {
   "cell_type": "code",
   "execution_count": 4,
   "metadata": {
    "collapsed": false
   },
   "outputs": [
    {
     "data": {
      "text/plain": [
       "'932614'"
      ]
     },
     "execution_count": 4,
     "metadata": {},
     "output_type": "execute_result"
    }
   ],
   "source": [
    "s.cookies['CFID']"
   ]
  },
  {
   "cell_type": "code",
   "execution_count": 5,
   "metadata": {
    "collapsed": false
   },
   "outputs": [],
   "source": [
    "r = s.get('https://spring.ura.gov.sg//lad/ore/property_market/project/project_resi_search_projdetail.cfm')"
   ]
  },
  {
   "cell_type": "code",
   "execution_count": 6,
   "metadata": {
    "collapsed": false
   },
   "outputs": [],
   "source": [
    "soup = bs4.BeautifulSoup(r.content)"
   ]
  },
  {
   "cell_type": "code",
   "execution_count": 102,
   "metadata": {
    "collapsed": false
   },
   "outputs": [],
   "source": [
    "r = s.post(\n",
    "    'https://spring.ura.gov.sg//lad/ore/property_market/project/Project_Resi_Process.cfm',\n",
    "    data={\n",
    "        'all_pytype':'Detached%2BSemi_Detached%2BTerrace%29',\n",
    "        'selected_pytype':'%28Total_Units-Exec_Condominium%29',\n",
    "        'selected_pytype':'%28Detached%2BSemi_Detached%2BTerrace%29',\n",
    "        'selected_pytype':'Detached',\n",
    "        'selected_pytype':'Semi_Detached',\n",
    "        'selected_pytype':'Terrace',\n",
    "        'selected_pytype':'%28Apartment%2BCondominium%29',\n",
    "        'selected_pytype':'Apartment',\n",
    "        'selected_pytype':'Condominium',\n",
    "        'selected_pytype':'Exec_Condominium',\n",
    "        'locality':'stzone',\n",
    "        'quicksearch':'',\n",
    "        'submit_type':'submit',\n",
    "        'units_from':'',\n",
    "        'units_to':'',\n",
    "        'year':'2010',\n",
    "        'quarter':'2',\n",
    "        'text':'',\n",
    "        'selected_pytype_hidden':'%3CwddxPacket+version%3D%271.0%27%3E%3Cheader%2F%3E%3Cdata%3E%3Carray+length%3D%272%27%3E%3Carray+length%3D%279%27%3E%3Cstring%3EAll+Landed%2C+Non-Landed+%28exclude+EC%29%3C%2Fstring%3E%3Cstring%3ELanded+-+All%3C%2Fstring%3E%3Cstring%3ELanded+-+Detached%3C%2Fstring%3E%3Cstring%3ELanded+-+Semi+Detached%3C%2Fstring%3E%3Cstring%3ELanded+-+Terrace%3C%2Fstring%3E%3Cstring%3ENon-Landed+-+All+%28exclude+EC%29%3C%2Fstring%3E%3Cstring%3ENon-Landed+-+Apartment%3C%2Fstring%3E%3Cstring%3ENon-Landed+-+Condominium%3C%2Fstring%3E%3Cstring%3EExecutive+Condominium%3C%2Fstring%3E%3C%2Farray%3E%3Carray+length%3D%279%27%3E%3Cstring%3E%28Total_Units-Exec_Condominium%29%3C%2Fstring%3E%3Cstring%3E%28Detached%2BSemi_Detached%2BTerrace%29%3C%2Fstring%3E%3Cstring%3EDetached%3C%2Fstring%3E%3Cstring%3ESemi_Detached%3C%2Fstring%3E%3Cstring%3ETerrace%3C%2Fstring%3E%3Cstring%3E%28Apartment%2BCondominium%29%3C%2Fstring%3E%3Cstring%3EApartment%3C%2Fstring%3E%3Cstring%3ECondominium%3C%2Fstring%3E%3Cstring%3EExec_Condominium%3C%2Fstring%3E%3C%2Farray%3E%3C%2Farray%3E%3C%2Fdata%3E%3C%2FwddxPacket%3E&',\n",
    "        'selected_region_hidden':'',\n",
    "        'selected_dgp_hidden':'',\n",
    "        'selected_stzone_hidden':'',\n",
    "        'selected_pdlist_hidden':'',\n",
    "        'selected_sectorlist_hidden':'',\n",
    "        'selected_mslist_hidden':'',\n",
    "        'search':'projdetail'\n",
    "        }\n",
    "    )\n",
    "## we are in display table page"
   ]
  },
  {
   "cell_type": "code",
   "execution_count": null,
   "metadata": {
    "collapsed": true
   },
   "outputs": [],
   "source": [
    "https://spring.ura.gov.sg//lad/ore/property_market/project/Project_Resi_DisplayTable.cfm\n",
    "https://spring.ura.gov.sg//lad/ore/property_market/project/indexMain.cfm"
   ]
  },
  {
   "cell_type": "code",
   "execution_count": 75,
   "metadata": {
    "collapsed": false
   },
   "outputs": [],
   "source": [
    "r = s.get('https://spring.ura.gov.sg/lad/ore/property_market/project/Project_Resi_DisplayTable.cfm')"
   ]
  },
  {
   "cell_type": "code",
   "execution_count": 88,
   "metadata": {
    "collapsed": true
   },
   "outputs": [],
   "source": [
    "soup = bs4.BeautifulSoup(r.content)"
   ]
  },
  {
   "cell_type": "code",
   "execution_count": 8,
   "metadata": {
    "collapsed": false
   },
   "outputs": [
    {
     "name": "stdout",
     "output_type": "stream",
     "text": [
      "Username\n",
      "password\n",
      "Submit\n"
     ]
    }
   ],
   "source": [
    "for item in soup.find_all('input'):\n",
    "    try:\n",
    "        print(item['name'])\n",
    "    except KeyError:\n",
    "        print(\"hi\")\n",
    "        pass"
   ]
  },
  {
   "cell_type": "code",
   "execution_count": null,
   "metadata": {
    "collapsed": true
   },
   "outputs": [],
   "source": []
  },
  {
   "cell_type": "code",
   "execution_count": 106,
   "metadata": {
    "collapsed": false
   },
   "outputs": [
    {
     "data": {
      "text/plain": [
       "<html><head><link href=\"/lad/ore/property_market/stylesheets/text.css\" rel=\"stylesheet\" type=\"text/css\"/>\n",
       "</head><body><br/>\n",
       "<title>Project Database - Residential - Process</title>\n",
       "<script language=\"JavaScript\" src=\"/lad/ore/property_market/jscript/HM_Loader.js\" type=\"text/javascript\"></script>\n",
       "<script language=\"JavaScript\" type=\"text/javascript\">\n",
       "<!--//\n",
       "    function setprojoption(optionval) {\n",
       "        if (optionval==\"table\") {  \n",
       "            document.submittable.action = \"Project_Resi_DisplayTable.cfm\";\n",
       "            document.submittable.method = \"post\";\n",
       "            document.submittable.submit();\n",
       "            return true;\n",
       "        }\n",
       "    }\n",
       " //-->\n",
       "</script>\n",
       "<form action=\"Project_Resi_DisplayTable.cfm\" id=\"processform\" method=\"post\" name=\"processform\" onsubmit=\"return assign_hidden(selected_display);\">\n",
       "<input name=\"pytypeval\" type=\"hidden\" value=\"\"/>\n",
       "<input name=\"filter\" type=\"hidden\" value=\" 1=1 and (Exec_Condominium &gt; 0) and ore_resi_project.period = 'Q22010' and ore_resi_project.project_id in (20898,20960)\"/>\n",
       "<input name=\"filter2\" type=\"hidden\" value=\" 1=1 and (Exec_Condominium &gt; 0) and ore_resi_project_flow.period = 'Q22010' and ore_resi_project.project_id in (20898,20960)\"/>\n",
       "<input name=\"caption\" type=\"hidden\" value=\"&lt;wddxPacket version='1.0'&gt;&lt;header/&gt;&lt;data&gt;&lt;array length='1'&gt;&lt;struct&gt;&lt;var name='STR'&gt;&lt;string&gt;Executive Condominium&lt;/string&gt;&lt;/var&gt;&lt;var name='NAME'&gt;&lt;string&gt;Property Type&lt;/string&gt;&lt;/var&gt;&lt;/struct&gt;&lt;/array&gt;&lt;/data&gt;&lt;/wddxPacket&gt;\"/>\n",
       "<input name=\"recordcount\" type=\"hidden\" value=\"1\"/>\n",
       "<input name=\"searchBy\" type=\"hidden\" value=\"projdetail\"/>\n",
       "<input name=\"selected_display\" type=\"hidden\" value=\"project_name,street_name,developer,total_units|detached|semi_detached|terrace|apartment|condominium|exec_condominium,planned|under_construction|top,uncomp_without_prerequisites|uncomp_with_prerequisites|uncomp_not_launched|uncomp_launched|uncomp_sold|uncomp_unsold|total_completed|completed_sold|completed_unsold,written_permission_date\"/>\n",
       "<input name=\"text\" type=\"hidden\" value=\"Project Name,Street Name,Developer,Total Units by Property Type,Total Units by Construction Status,Total Units by Completion and Sale Status,Written Permission Date\"/>\n",
       "<input name=\"opt\" type=\"hidden\" value=\"project_name,street_name,developer,total_units|detached|semi_detached|terrace|apartment|condominium|exec_condominium,planned|under_construction|top,uncomp_without_prerequisites|uncomp_with_prerequisites|uncomp_not_launched|uncomp_launched|uncomp_sold|uncomp_unsold|total_completed|completed_sold|completed_unsold,written_permission_date\"/>\n",
       "</form>\n",
       "<script language=\"JavaScript\" type=\"text/javascript\">document.processform.submit();</script>\n",
       "<script language=\"JavaScript\" src=\"../jscript/coolmenus3.js\" type=\"text/javascript\"></script>\n",
       "<style>\n",
       "/* CoolMenus 4 - default styles - do not edit */\n",
       ".clCMAbs{position:absolute; visibility:hidden; left:0; top:0;}\n",
       "/* CoolMenus 4 - default styles - end */\n",
       "  \n",
       "/*Style for the background-bar*/\n",
       ".clBar{position:absolute; width:10; height:10; background-color:#ff9900; layer-background-color:#ff9900; visibility:hidden;}\n",
       "\n",
       "/*Styles for level 0*/\n",
       ".clLevel0,.clLevel0over{position:absolute; padding:3px; font-family:arial,helvetica; font-size:11px; font-weight:bold; text-align:right;}\n",
       ".clLevel0{background-color:#ffffff; layer-background-color:#ffffff; color:#666666;}\n",
       ".clLevel0over{background-color:#666666; layer-background-color:#666666; color:#ffffff; cursor:pointer; cursor:hand; }\n",
       ".clLevel0border{position:absolute; visibility:hidden; background-color:#999999; layer-background-color:#999999;}\n",
       "\n",
       "/*Styles for level 1*/\n",
       ".clLevel1, .clLevel1over{position:absolute; padding:1px; font-family:verdana,helvetica,aria; font-size:10px; font-weight:bold; text-align:right;}\n",
       ".clLevel1{background-color:#eeeeee; layer-background-color:#eeeeee; color:666666;}\n",
       ".clLevel1over{background-color:#666666; layer-background-color:#666666; color:#ffffff; cursor:pointer; cursor:hand; }\n",
       ".clLevel1border{position:absolute; visibility:hidden; background-color:#999999; layer-background-color:#999999;}\n",
       "</style>\n",
       "<script language=\"JavaScript\">\n",
       "\t// opens watchlist window and assign window handler to parent.RealisWatchList (index.cfm)\n",
       "\tfunction displayWatchList1(url, target) \n",
       "\t{\n",
       "\t\tvar watchListWidth = 413;\n",
       "\t\tvar watchListHeight = 430;\n",
       "\t\tparent.RealisWatchList = window.open(url,target,\"menubar=0,scrollbars=1,resizable=1,toolbar=0,location=0,directories=0,status=0,height=\"+watchListHeight+\",width=\"+watchListWidth);\n",
       "\t\tvar isIE = document.all?true:false;\n",
       "\t\tvar isNS = document.layers?true:false;\n",
       "\t\t\n",
       "\t\tif(isIE) \n",
       "\t\t{\n",
       "\t\t\tparent.RealisWatchList.resizeTo(watchListWidth,watchListHeight);\n",
       "\t\t}\n",
       "\t\t\n",
       "\t\tif(isNS)\n",
       "\t\t{\n",
       "\t\t\tparent.RealisWatchList.outerHeight = watchListHeight; \n",
       "\t\t\tparent.RealisWatchList.outerWidth = watchListWidth; \n",
       "\t\t} \n",
       "\t\t\n",
       "\t\tparent.RealisWatchList.moveTo((screen.availWidth-watchListWidth), (screen.availHeight-watchListHeight));\n",
       "\t\tparent.RealisWatchList.focus();\n",
       "\t\treturn false;\n",
       "\t}\n",
       "/*****************************************************************************\n",
       "Default browsercheck - Leave this one   \n",
       "******************************************************************************/\n",
       "function lib_bwcheck(){ //Browsercheck (needed)\n",
       "\tthis.ver=navigator.appVersion; this.agent=navigator.userAgent\n",
       "\tthis.dom=document.getElementById?1:0\n",
       "\tthis.ie5=(this.ver.indexOf(\"MSIE 5\")>-1 && this.dom)?1:0;\n",
       "\tthis.ie6=(this.ver.indexOf(\"MSIE 6\")>-1 && this.dom)?1:0;\n",
       "\tthis.ie7=(this.ver.indexOf(\"MSIE 7\")>-1 && this.dom)?1:0;\n",
       "\tthis.ie8=(this.ver.indexOf(\"MSIE 8\")>-1 && this.dom)?1:0; \n",
       "\tthis.ie4=(document.all && !this.dom)?1:0;\n",
       "\tthis.ie=this.ie4||this.ie5||this.ie6||this.ie7\n",
       "\tthis.mac=this.agent.indexOf(\"Mac\")>-1\n",
       "\tthis.opera5=this.agent.indexOf(\"Opera 5\")>-1\n",
       "\tthis.ns6=(this.dom && parseInt(this.ver) >= 5) ?1:0; \n",
       "\tthis.ns4=(document.layers && !this.dom)?1:0;\n",
       "\t//this.bw=(this.ie6 || this.ie5 || this.ie4 || this.ns4 || this.ns6 || this.opera5 || this.dom)\n",
       "\tthis.bw=(this.ie8 || this.ie7 || this.ie6 || this.ie5 || this.ie4 || this.ns4 || this.ns6 || this.opera5 || this.dom)\n",
       "\treturn this\n",
       "}\n",
       "//var bw=new lib_bwcheck() //Making browsercheck object\n",
       "\n",
       "var mDebugging=2 \n",
       "\n",
       "oCMenu=new makeCM(\"oCMenu\") \n",
       "/*\n",
       "oCMenu.useframes=0 \n",
       "oCMenu.frame=\"frmMain\"\n",
       "oCMenu.useNS4links=1\n",
       "oCMenu.NS4padding=5 \n",
       "oCMenu.checkselect=1\n",
       "oCMenu.offlineUrl=\"/\" //The path to the ROOT of your web offline\n",
       "oCMenu.onlineUrl=\"http://spring.ura.gov.sg/\" //The path to the ROOT of your web online\n",
       "\n",
       "oCMenu.pagecheck=0\n",
       "oCMenu.checkscroll=0\n",
       "oCMenu.resizecheck=1 \n",
       "oCMenu.wait=400 //Set the time delay of the menu display\n",
       "*/\n",
       "/* Placement of the navigation menu, in x and y co-ordinates */\n",
       "/*\n",
       "oCMenu.rows=0\t//Set this to 1 if you want the menu to be in column format, or 0 for the menu to be in row format\n",
       "oCMenu.fromleft=0 // Set the x co-ordinate of the menu\n",
       "oCMenu.fromtop=30 // Set the y co-ordinate of the menu\n",
       "oCMenu.pxbetween=0 // Set the cellpadding of the menu\n",
       "oCMenu.menuplacement=0\n",
       "*/\n",
       "//Menu properties   \n",
       "oCMenu.pxBetween=0\n",
       "oCMenu.fromLeft=0\n",
       "oCMenu.fromTop=30\n",
       "oCMenu.rows=0 \n",
       "oCMenu.menuPlacement=\"left\"\n",
       "                                                             \n",
       "oCMenu.offlineRoot=\"/\" \n",
       "oCMenu.onlineRoot=\"https://spring.ura.gov.sg/\" \n",
       "oCMenu.resizeCheck=1 \n",
       "oCMenu.wait=400 \n",
       "oCMenu.fillImg=\"\"\n",
       "oCMenu.zIndex=0\n",
       "\n",
       "//Background bar properties\n",
       "oCMenu.useBar=1\n",
       "oCMenu.barWidth=\"menu\"\n",
       "oCMenu.barHeight=\"menu\" \n",
       "oCMenu.barClass=\"clBar\"\n",
       "oCMenu.barX=\"menu\"\n",
       "oCMenu.barY=\"menu\"\n",
       "oCMenu.barBorderX=0\n",
       "oCMenu.barBorderY=0\n",
       "oCMenu.barBorderClass=\"\"\n",
       "\n",
       "/* 1st level menu properties - ALL properties have to be specified in level 0*/\n",
       "/*\n",
       "oCMenu.level[0]=new Array() \n",
       "oCMenu.level[0].width=99\n",
       "oCMenu.level[0].height=25\n",
       "oCMenu.level[0].bgcoloroff=\"#FFFFFF\"\n",
       "oCMenu.level[0].bgcoloron=\"#666666\" \n",
       "oCMenu.level[0].textcolor=\"#666666\"\n",
       "oCMenu.level[0].hovercolor=\"#FFFFFF\" \n",
       "oCMenu.level[0].style=\"padding:3px; font-family:arial,helvetica; font-size:11px; font-weight:bolder; text-align:right\"\n",
       "oCMenu.level[0].border=1 \n",
       "oCMenu.level[0].bordercolor=\"#999999\" \n",
       "oCMenu.level[0].offsetX=100 // Set the x co-ordinate of the 2nd level menu below\n",
       "oCMenu.level[0].offsetY=-27 // Set the y co-ordinate of the 2nd level menu below\n",
       "oCMenu.level[0].NS4font=\"arial,helvetica\"\n",
       "oCMenu.level[0].NS4fontSize=\"1\"\n",
       "oCMenu.level[0].NS4fontColor=\"#000000\"\n",
       "oCMenu.level[0].align=\"bottom\" \n",
       "*/\n",
       "oCMenu.level[0]=new cm_makeLevel() //Add this for each new level\n",
       "oCMenu.level[0].width=99\n",
       "oCMenu.level[0].height=25 \n",
       "oCMenu.level[0].regClass=\"clLevel0\"\n",
       "oCMenu.level[0].overClass=\"clLevel0over\"\n",
       "oCMenu.level[0].borderX=1\n",
       "oCMenu.level[0].borderY=1\n",
       "oCMenu.level[0].borderClass=\"clLevel0border\"\n",
       "oCMenu.level[0].offsetX=100\n",
       "oCMenu.level[0].offsetY=-27\n",
       "oCMenu.level[0].rows=0\n",
       "oCMenu.level[0].arrow=0\n",
       "oCMenu.level[0].arrowWidth=0\n",
       "oCMenu.level[0].arrowHeight=0\n",
       "oCMenu.level[0].align=\"bottom\"\n",
       "\n",
       "/* 2nd level menu properties*/\n",
       "/*\n",
       "oCMenu.level[0]=new Array() \n",
       "oCMenu.level[1].width=90\n",
       "oCMenu.level[1].height=25\n",
       "oCMenu.level[1].bgcoloroff=\"#EEEEEE\"\n",
       "oCMenu.level[1].bgcoloron=\"#666666\"\n",
       "oCMenu.level[1].textcolor=\"#666666\"\n",
       "oCMenu.level[1].hovercolor=\"#FFFFFF\"\n",
       "oCMenu.level[1].style=\"padding:3px; font-family:verdana,helvetica,aria; font-size:10px; font-weight:bolder; text-align:right\"\n",
       "oCMenu.level[1].align=\"bottom\" \n",
       "oCMenu.level[1].border=0 \n",
       "oCMenu.level[1].bordercolor=\"#999999\"\n",
       "oCMenu.level[1].NS4font=\"arial,helvetica\"\n",
       "oCMenu.level[1].NS4fontSize=\"1\"\n",
       "oCMenu.level[1].NS4fontColor=\"black\"\n",
       "*/\n",
       "oCMenu.level[1]=new cm_makeLevel() //Add this for each new level (adding one to the number)\n",
       "oCMenu.level[1].width=90\n",
       "oCMenu.level[1].height=25\n",
       "oCMenu.level[1].offsetX=0\n",
       "oCMenu.level[1].offsetY=0\n",
       "oCMenu.level[1].regClass=\"clLevel1\"\n",
       "oCMenu.level[1].overClass=\"clLevel1over\"\n",
       "oCMenu.level[1].borderClass=\"clLevel1border\"\n",
       "\n",
       "/*New: Added animation features that can be controlled on each level.*/\n",
       "/*\n",
       "oCMenu.level[0].clip=0 //Set this to 1 if you want the submenus of this level to \"slide\" open in a animated clip effect. - Value: 0 || 1\n",
       "oCMenu.level[0].clippx=15 //If you have clip spesified you can set how many pixels it will clip each timer in here to control the speed of the animation. - Value: px \n",
       "oCMenu.level[0].cliptim=52 //This is the speed of the timer for the clip effect. Play with this and the clippx to get the desired speed for the clip effect (be carefull though and try and keep this value as high or possible or you can get problems with NS4). - Value: milliseconds\n",
       "*/\n",
       "\n",
       "/* Menu (1st Level) -> Home */\n",
       "\n",
       "oCMenu.makeMenu('top0','','HOME&nbsp;','/lad/ore/property_market/indexMain.cfm')\n",
       "\n",
       "\t\n",
       "/* Menu (1st Level) -> Residential */\n",
       "\n",
       "oCMenu.makeMenu('top1','','RESIDENTIAL&nbsp;','','','','','','','clLevel0over')\n",
       "\n",
       "\t/* Menu (2nd Level) -> Timeseries,Project,Transaction,Stock */\n",
       "\toCMenu.makeMenu('sub10','top1',' Timeseries&nbsp;','/lad/ore/property_market/timeseries/time_series_map.cfm?property_type=property_type_resi')\n",
       "\t//oCMenu.makeMenu('sub10','top1',' Timeseries&nbsp;','/lad/ore/property_market/timeseries/timeseries_search.cfm?property_type=property_type_resi')\n",
       "\toCMenu.makeMenu('sub11','top1',' Project&nbsp;','/lad/ore/property_market/project/project_resi_search_projdetail.cfm')\t\n",
       "\toCMenu.makeMenu('sub12','top1',' Transaction&nbsp;','/lad/ore/property_market/transaction/transaction_resi_search_projdetail.cfm')\n",
       "\toCMenu.makeMenu('sub13','top1',' Stock&nbsp;','/lad/ore/property_market/stock/stock_resi_search.cfm')\n",
       "\toCMenu.makeMenu('sub14','top1',' Rental&nbsp;','/lad/ore/property_market/rental/rental_resi_search.cfm')\t\n",
       "\n",
       "\t\n",
       "/* Menu (1st Level) -> Commerical */ \n",
       "\n",
       "oCMenu.makeMenu('top2','','COMMERCIAL&nbsp;')\n",
       "\n",
       "\t/* Menu (2nd Level) -> Timeseries,Project,Transaction,Stock */ \n",
       "\toCMenu.makeMenu('sub20','top2',' Timeseries&nbsp;','/lad/ore/property_market/timeseries/time_series_map.cfm?property_type=property_type_comm')\n",
       "\t//oCMenu.makeMenu('sub20','top2',' Timeseries&nbsp;','/lad/ore/property_market/timeseries/timeseries_search.cfm?property_type=property_type_comm')\n",
       "\toCMenu.makeMenu('sub21','top2',' Project&nbsp;','/lad/ore/property_market/project/project_comm_search_projdetail.cfm')\t\n",
       "\toCMenu.makeMenu('sub22','top2',' Transaction&nbsp;','/lad/ore/property_market/transaction/transaction_comm_search_projdetail.cfm')\n",
       "\toCMenu.makeMenu('sub23','top2',' Stock&nbsp;','/lad/ore/property_market/stock/stock_comm_search.cfm')\n",
       "\toCMenu.makeMenu('sub24','top2',' Rental&nbsp;','/lad/ore/property_market/rental/rental_comm_search.cfm')\n",
       "\n",
       "\n",
       "/* Menu (1st Level) -> Industrial */\n",
       "\n",
       "oCMenu.makeMenu('top3','','INDUSTRIAL&nbsp;')\n",
       "\n",
       "\t/* Menu (2nd Level) -> Timeseries,Project,Transaction,Stock */ \n",
       "\toCMenu.makeMenu('sub30','top3',' Timeseries&nbsp;','/lad/ore/property_market/timeseries/time_series_map.cfm?property_type=property_type_ind')\t\n",
       "\t//oCMenu.makeMenu('sub30','top3',' Timeseries&nbsp;','/lad/ore/property_market/timeseries/timeseries_search.cfm?property_type=property_type_ind')\n",
       "\toCMenu.makeMenu('sub31','top3',' Project&nbsp;','/lad/ore/property_market/project/project_ind_search_projdetail.cfm')\t\n",
       "\toCMenu.makeMenu('sub32','top3',' Transaction&nbsp;','/lad/ore/property_market/transaction/transaction_ind_search_projdetail.cfm')\n",
       "\toCMenu.makeMenu('sub33','top3',' Stock&nbsp;','/lad/ore/property_market/stock/stock_ind_search.cfm')\n",
       "\toCMenu.makeMenu('sub34','top3',' Rental&nbsp;','/lad/ore/property_market/rental/rental_ind_search.cfm')\n",
       "\n",
       "\n",
       "/* Menu (1st Level) -> Demo */\n",
       "\n",
       "/*oCMenu.makeMenu('top5','','DEMO&nbsp;','','','','','','','#FFFFFF','','#666666')\n",
       "  \n",
       "\toCMenu.makeMenu('sub50','top5',' Timeseries Data&nbsp;','/lad/ore/demo/New_timeseries_viewlet_swf.html','_blank','145','');\n",
       "\toCMenu.makeMenu('sub51','top5',' Multiple Series Function&nbsp;','/lad/ore/demo/Multiple_Series_Analysis_viewlet_swf.html','_blank','145','');\n",
       "\toCMenu.makeMenu('sub52','top5',' Project Data&nbsp;','/lad/ore/demo/project_viewlet_swf.html','_blank','145','');\n",
       "\toCMenu.makeMenu('sub53','top5',' Transaction Data&nbsp;','/lad/ore/demo/new_transaction_viewlet_swf.html','_blank','145','');  \n",
       "\toCMenu.makeMenu('sub54','top5',' Stock Data&nbsp;','/lad/ore/demo/New_stock_viewlet_swf.html','_blank','145','');  \n",
       "*/\n",
       "/* Menu (1st Level) -> Watchlist */\n",
       "\n",
       "oCMenu.makeMenu('top6','','WATCHLIST&nbsp;','','','','','','','','','','','','displayWatchList1(\"https://spring.ura.gov.sg//lad/ore/property_market/watchList/index.cfm\",\"RealisWatchList\")')\n",
       "\n",
       "oCMenu.makeMenu('top7','','LOGOUT&nbsp;','/lad/ore/property_market/logout.cfm','parent')\n",
       "\n",
       "\n",
       "\t\n",
       "\t\n",
       "\n",
       "oCMenu.construct();\n",
       "//oCMenu.makeStyle(); oCMenu.construct()\t\t\n",
       "  \n",
       "function cm_checkScrolled(obj){\n",
       "\tif(bw.ns4 || bw.ns6) obj.scrolledY=obj.win.pageYOffset\n",
       "\telse obj.scrolledY=obj.win.document.body.scrollTop\n",
       "\tif(obj.scrolledY!=obj.lastScrolled){\n",
       "\t\tif(!obj.useframes){\n",
       "\t\t\tself.status=obj.scrolledY\n",
       "\t\t\tif(obj.scrolledY>119){\n",
       "\t\t\t\tfor(i=0;i < obj.l[0].num;i++){var sobj=obj.l[0].o[i].oBorder; sobj.moveY(obj.scrolledY)}\n",
       "\t\t\t\tif(obj.usebar) obj.oBar.moveY(obj.scrolledY)\n",
       "\t\t\t}else{\n",
       "\t\t\t\tfor(i=0;i < obj.l[0].num;i++){var sobj=obj.l[0].o[i].oBorder; sobj.moveY(obj.fromtop)}\n",
       "\t\t\t\tif(obj.usebar) obj.oBar.moveY(obj.fromtop)\n",
       "\t\t\t}\n",
       "\n",
       "\t\t}\n",
       "\t\tobj.lastScrolled=obj.scrolledY; page.y=obj.scrolledY; page.y2=page.y2orig+obj.scrolledY\n",
       "\t\tif(!obj.useframes || bw.ie){ clearTimeout(obj.tim); obj.isover=0; obj.hideSubs(1,0)}\n",
       "\t}\n",
       "\tif((bw.ns4 || bw.ns6) && !obj.useframes) setTimeout(\"cm_checkScrolled(\"+obj.name+\")\",200)\n",
       "}\n",
       "</script>\n",
       "</body></html>"
      ]
     },
     "execution_count": 106,
     "metadata": {},
     "output_type": "execute_result"
    }
   ],
   "source": [
    "soup"
   ]
  },
  {
   "cell_type": "code",
   "execution_count": 20,
   "metadata": {
    "collapsed": false
   },
   "outputs": [
    {
     "ename": "CParserError",
     "evalue": "Error tokenizing data. C error: Expected 1 fields in line 146, saw 4\n",
     "output_type": "error",
     "traceback": [
      "\u001b[1;31m---------------------------------------------------------------------------\u001b[0m",
      "\u001b[1;31mCParserError\u001b[0m                              Traceback (most recent call last)",
      "\u001b[1;32m<ipython-input-20-041566fb00e9>\u001b[0m in \u001b[0;36m<module>\u001b[1;34m()\u001b[0m\n\u001b[0;32m      1\u001b[0m \u001b[0md\u001b[0m \u001b[1;33m=\u001b[0m \u001b[0ms\u001b[0m\u001b[1;33m.\u001b[0m\u001b[0mget\u001b[0m\u001b[1;33m(\u001b[0m\u001b[1;34m'https://spring.ura.gov.sg//lad/ore/property_market/project/Project_getCSV.cfm?filename=05082015130846_1_allproperty.csv'\u001b[0m\u001b[1;33m)\u001b[0m\u001b[1;33m\u001b[0m\u001b[0m\n\u001b[1;32m----> 2\u001b[1;33m \u001b[0mdf\u001b[0m \u001b[1;33m=\u001b[0m \u001b[0mpd\u001b[0m\u001b[1;33m.\u001b[0m\u001b[0mread_csv\u001b[0m\u001b[1;33m(\u001b[0m\u001b[0mio\u001b[0m\u001b[1;33m.\u001b[0m\u001b[0mBytesIO\u001b[0m\u001b[1;33m(\u001b[0m\u001b[0md\u001b[0m\u001b[1;33m.\u001b[0m\u001b[0mcontent\u001b[0m\u001b[1;33m)\u001b[0m\u001b[1;33m,\u001b[0m \u001b[0mdtype\u001b[0m\u001b[1;33m=\u001b[0m\u001b[0mstr\u001b[0m\u001b[1;33m)\u001b[0m\u001b[1;33m\u001b[0m\u001b[0m\n\u001b[0m\u001b[0;32m      3\u001b[0m \u001b[0mdf\u001b[0m\u001b[1;33m.\u001b[0m\u001b[0mhead\u001b[0m\u001b[1;33m(\u001b[0m\u001b[1;36m2\u001b[0m\u001b[1;33m)\u001b[0m\u001b[1;33m\u001b[0m\u001b[0m\n",
      "\u001b[1;32m/home/vagrant/miniconda3/envs/pyguru/lib/python3.4/site-packages/pandas/io/parsers.py\u001b[0m in \u001b[0;36mparser_f\u001b[1;34m(filepath_or_buffer, sep, dialect, compression, doublequote, escapechar, quotechar, quoting, skipinitialspace, lineterminator, header, index_col, names, prefix, skiprows, skipfooter, skip_footer, na_values, na_fvalues, true_values, false_values, delimiter, converters, dtype, usecols, engine, delim_whitespace, as_recarray, na_filter, compact_ints, use_unsigned, low_memory, buffer_lines, warn_bad_lines, error_bad_lines, keep_default_na, thousands, comment, decimal, parse_dates, keep_date_col, dayfirst, date_parser, memory_map, float_precision, nrows, iterator, chunksize, verbose, encoding, squeeze, mangle_dupe_cols, tupleize_cols, infer_datetime_format, skip_blank_lines)\u001b[0m\n\u001b[0;32m    463\u001b[0m                     skip_blank_lines=skip_blank_lines)\n\u001b[0;32m    464\u001b[0m \u001b[1;33m\u001b[0m\u001b[0m\n\u001b[1;32m--> 465\u001b[1;33m         \u001b[1;32mreturn\u001b[0m \u001b[0m_read\u001b[0m\u001b[1;33m(\u001b[0m\u001b[0mfilepath_or_buffer\u001b[0m\u001b[1;33m,\u001b[0m \u001b[0mkwds\u001b[0m\u001b[1;33m)\u001b[0m\u001b[1;33m\u001b[0m\u001b[0m\n\u001b[0m\u001b[0;32m    466\u001b[0m \u001b[1;33m\u001b[0m\u001b[0m\n\u001b[0;32m    467\u001b[0m     \u001b[0mparser_f\u001b[0m\u001b[1;33m.\u001b[0m\u001b[0m__name__\u001b[0m \u001b[1;33m=\u001b[0m \u001b[0mname\u001b[0m\u001b[1;33m\u001b[0m\u001b[0m\n",
      "\u001b[1;32m/home/vagrant/miniconda3/envs/pyguru/lib/python3.4/site-packages/pandas/io/parsers.py\u001b[0m in \u001b[0;36m_read\u001b[1;34m(filepath_or_buffer, kwds)\u001b[0m\n\u001b[0;32m    249\u001b[0m         \u001b[1;32mreturn\u001b[0m \u001b[0mparser\u001b[0m\u001b[1;33m\u001b[0m\u001b[0m\n\u001b[0;32m    250\u001b[0m \u001b[1;33m\u001b[0m\u001b[0m\n\u001b[1;32m--> 251\u001b[1;33m     \u001b[1;32mreturn\u001b[0m \u001b[0mparser\u001b[0m\u001b[1;33m.\u001b[0m\u001b[0mread\u001b[0m\u001b[1;33m(\u001b[0m\u001b[1;33m)\u001b[0m\u001b[1;33m\u001b[0m\u001b[0m\n\u001b[0m\u001b[0;32m    252\u001b[0m \u001b[1;33m\u001b[0m\u001b[0m\n\u001b[0;32m    253\u001b[0m _parser_defaults = {\n",
      "\u001b[1;32m/home/vagrant/miniconda3/envs/pyguru/lib/python3.4/site-packages/pandas/io/parsers.py\u001b[0m in \u001b[0;36mread\u001b[1;34m(self, nrows)\u001b[0m\n\u001b[0;32m    708\u001b[0m                 \u001b[1;32mraise\u001b[0m \u001b[0mValueError\u001b[0m\u001b[1;33m(\u001b[0m\u001b[1;34m'skip_footer not supported for iteration'\u001b[0m\u001b[1;33m)\u001b[0m\u001b[1;33m\u001b[0m\u001b[0m\n\u001b[0;32m    709\u001b[0m \u001b[1;33m\u001b[0m\u001b[0m\n\u001b[1;32m--> 710\u001b[1;33m         \u001b[0mret\u001b[0m \u001b[1;33m=\u001b[0m \u001b[0mself\u001b[0m\u001b[1;33m.\u001b[0m\u001b[0m_engine\u001b[0m\u001b[1;33m.\u001b[0m\u001b[0mread\u001b[0m\u001b[1;33m(\u001b[0m\u001b[0mnrows\u001b[0m\u001b[1;33m)\u001b[0m\u001b[1;33m\u001b[0m\u001b[0m\n\u001b[0m\u001b[0;32m    711\u001b[0m \u001b[1;33m\u001b[0m\u001b[0m\n\u001b[0;32m    712\u001b[0m         \u001b[1;32mif\u001b[0m \u001b[0mself\u001b[0m\u001b[1;33m.\u001b[0m\u001b[0moptions\u001b[0m\u001b[1;33m.\u001b[0m\u001b[0mget\u001b[0m\u001b[1;33m(\u001b[0m\u001b[1;34m'as_recarray'\u001b[0m\u001b[1;33m)\u001b[0m\u001b[1;33m:\u001b[0m\u001b[1;33m\u001b[0m\u001b[0m\n",
      "\u001b[1;32m/home/vagrant/miniconda3/envs/pyguru/lib/python3.4/site-packages/pandas/io/parsers.py\u001b[0m in \u001b[0;36mread\u001b[1;34m(self, nrows)\u001b[0m\n\u001b[0;32m   1157\u001b[0m \u001b[1;33m\u001b[0m\u001b[0m\n\u001b[0;32m   1158\u001b[0m         \u001b[1;32mtry\u001b[0m\u001b[1;33m:\u001b[0m\u001b[1;33m\u001b[0m\u001b[0m\n\u001b[1;32m-> 1159\u001b[1;33m             \u001b[0mdata\u001b[0m \u001b[1;33m=\u001b[0m \u001b[0mself\u001b[0m\u001b[1;33m.\u001b[0m\u001b[0m_reader\u001b[0m\u001b[1;33m.\u001b[0m\u001b[0mread\u001b[0m\u001b[1;33m(\u001b[0m\u001b[0mnrows\u001b[0m\u001b[1;33m)\u001b[0m\u001b[1;33m\u001b[0m\u001b[0m\n\u001b[0m\u001b[0;32m   1160\u001b[0m         \u001b[1;32mexcept\u001b[0m \u001b[0mStopIteration\u001b[0m\u001b[1;33m:\u001b[0m\u001b[1;33m\u001b[0m\u001b[0m\n\u001b[0;32m   1161\u001b[0m             \u001b[1;32mif\u001b[0m \u001b[0mnrows\u001b[0m \u001b[1;32mis\u001b[0m \u001b[1;32mNone\u001b[0m\u001b[1;33m:\u001b[0m\u001b[1;33m\u001b[0m\u001b[0m\n",
      "\u001b[1;32mpandas/parser.pyx\u001b[0m in \u001b[0;36mpandas.parser.TextReader.read (pandas/parser.c:7396)\u001b[1;34m()\u001b[0m\n",
      "\u001b[1;32mpandas/parser.pyx\u001b[0m in \u001b[0;36mpandas.parser.TextReader._read_low_memory (pandas/parser.c:7636)\u001b[1;34m()\u001b[0m\n",
      "\u001b[1;32mpandas/parser.pyx\u001b[0m in \u001b[0;36mpandas.parser.TextReader._read_rows (pandas/parser.c:8258)\u001b[1;34m()\u001b[0m\n",
      "\u001b[1;32mpandas/parser.pyx\u001b[0m in \u001b[0;36mpandas.parser.TextReader._tokenize_rows (pandas/parser.c:8132)\u001b[1;34m()\u001b[0m\n",
      "\u001b[1;32mpandas/parser.pyx\u001b[0m in \u001b[0;36mpandas.parser.raise_parser_error (pandas/parser.c:20735)\u001b[1;34m()\u001b[0m\n",
      "\u001b[1;31mCParserError\u001b[0m: Error tokenizing data. C error: Expected 1 fields in line 146, saw 4\n"
     ]
    }
   ],
   "source": [
    "d = s.get('https://spring.ura.gov.sg//lad/ore/property_market/project/Project_getCSV.cfm?filename=05082015130846_1_allproperty.csv')\n",
    "df = pd.read_csv(io.BytesIO(d.content), dtype=str)\n",
    "df.head(2)"
   ]
  },
  {
   "cell_type": "code",
   "execution_count": null,
   "metadata": {
    "collapsed": false
   },
   "outputs": [],
   "source": [
    "logout()"
   ]
  }
 ],
 "metadata": {
  "kernelspec": {
   "display_name": "Python 3",
   "language": "python",
   "name": "python3"
  },
  "language_info": {
   "codemirror_mode": {
    "name": "ipython",
    "version": 3
   },
   "file_extension": ".py",
   "mimetype": "text/x-python",
   "name": "python",
   "nbconvert_exporter": "python",
   "pygments_lexer": "ipython3",
   "version": "3.4.3"
  }
 },
 "nbformat": 4,
 "nbformat_minor": 0
}
