{
 "cells": [
  {
   "cell_type": "code",
   "execution_count": 24,
   "metadata": {
    "collapsed": false
   },
   "outputs": [
    {
     "name": "stdout",
     "output_type": "stream",
     "text": [
      "http://maps.googleapis.com/maps/api/geocode/json?address=Clementi%20Central&sensor=false&\n"
     ]
    }
   ],
   "source": [
    "import urllib.request as urllib\n",
    "from pprint import pprint\n",
    "import json\n",
    "add = \"Clementi Central\"\n",
    "add = urllib.quote(add)\n",
    "geocode_url = \"http://maps.googleapis.com/maps/api/geocode/json?address=%s&sensor=false&\" % add\n",
    "print(geocode_url)"
   ]
  },
  {
   "cell_type": "code",
   "execution_count": 26,
   "metadata": {
    "collapsed": false
   },
   "outputs": [
    {
     "name": "stdout",
     "output_type": "stream",
     "text": [
      "http://maps.googleapis.com/maps/api/geocode/json?address=Clementi%20Central&sensor=false&\n"
     ]
    }
   ],
   "source": [
    "add_1 = urllib.quote(\"Bukit Batok South\")\n",
    "add_2 = urllib.quote(\"Bukit Batok West\")\n",
    "geocode_url_1 = \"http://maps.googleapis.com/maps/api/geocode/json?address=%s&sensor=false&\" % add_1\n",
    "geocode_url_2 = \"http://maps.googleapis.com/maps/api/geocode/json?address=%s&sensor=false&\" % add_2\n",
    "print(geocode_url)"
   ]
  },
  {
   "cell_type": "code",
   "execution_count": 27,
   "metadata": {
    "collapsed": false
   },
   "outputs": [
    {
     "name": "stdout",
     "output_type": "stream",
     "text": [
      "[{'address_components': [{'long_name': 'Bukit Batok',\n",
      "                          'short_name': 'Bukit Batok',\n",
      "                          'types': ['neighborhood', 'political']},\n",
      "                         {'long_name': 'Singapore',\n",
      "                          'short_name': 'Singapore',\n",
      "                          'types': ['locality', 'political']},\n",
      "                         {'long_name': 'Singapore',\n",
      "                          'short_name': 'SG',\n",
      "                          'types': ['country', 'political']}],\n",
      "  'formatted_address': 'Bukit Batok, Singapore',\n",
      "  'geometry': {'bounds': {'northeast': {'lat': 1.3796489,\n",
      "                                        'lng': 103.770343},\n",
      "                          'southwest': {'lat': 1.3325046,\n",
      "                                        'lng': 103.7365401}},\n",
      "               'location': {'lat': 1.3590288, 'lng': 103.7636796},\n",
      "               'location_type': 'APPROXIMATE',\n",
      "               'viewport': {'northeast': {'lat': 1.3796489,\n",
      "                                          'lng': 103.770343},\n",
      "                            'southwest': {'lat': 1.3325046,\n",
      "                                          'lng': 103.7365401}}},\n",
      "  'partial_match': True,\n",
      "  'place_id': 'ChIJyeWclkkQ2jER235lRS1YEq4',\n",
      "  'types': ['neighborhood', 'political']}]\n"
     ]
    }
   ],
   "source": [
    "req = urllib.urlopen(geocode_url_1)\n",
    "geo_code_list = json.loads(req.read().decode())[\"results\"]\n",
    "pprint(geo_code_list)"
   ]
  },
  {
   "cell_type": "code",
   "execution_count": 28,
   "metadata": {
    "collapsed": false
   },
   "outputs": [
    {
     "name": "stdout",
     "output_type": "stream",
     "text": [
      "[{'address_components': [{'long_name': 'Bukit Batok',\n",
      "                          'short_name': 'Bukit Batok',\n",
      "                          'types': ['neighborhood', 'political']},\n",
      "                         {'long_name': 'Singapore',\n",
      "                          'short_name': 'Singapore',\n",
      "                          'types': ['locality', 'political']},\n",
      "                         {'long_name': 'Singapore',\n",
      "                          'short_name': 'SG',\n",
      "                          'types': ['country', 'political']}],\n",
      "  'formatted_address': 'Bukit Batok, Singapore',\n",
      "  'geometry': {'bounds': {'northeast': {'lat': 1.3796489,\n",
      "                                        'lng': 103.770343},\n",
      "                          'southwest': {'lat': 1.3325046,\n",
      "                                        'lng': 103.7365401}},\n",
      "               'location': {'lat': 1.3590288, 'lng': 103.7636796},\n",
      "               'location_type': 'APPROXIMATE',\n",
      "               'viewport': {'northeast': {'lat': 1.3796489,\n",
      "                                          'lng': 103.770343},\n",
      "                            'southwest': {'lat': 1.3325046,\n",
      "                                          'lng': 103.7365401}}},\n",
      "  'partial_match': True,\n",
      "  'place_id': 'ChIJyeWclkkQ2jER235lRS1YEq4',\n",
      "  'types': ['neighborhood', 'political']}]\n"
     ]
    }
   ],
   "source": [
    "req = urllib.urlopen(geocode_url_2)\n",
    "geo_code_list = json.loads(req.read().decode())[\"results\"]\n",
    "pprint(geo_code_list)"
   ]
  },
  {
   "cell_type": "code",
   "execution_count": 25,
   "metadata": {
    "collapsed": false
   },
   "outputs": [
    {
     "name": "stdout",
     "output_type": "stream",
     "text": [
      "[{'address_components': [{'long_name': 'The Clementi Mall',\n",
      "                          'short_name': 'The Clementi Mall',\n",
      "                          'types': ['premise']},\n",
      "                         {'long_name': '3155',\n",
      "                          'short_name': '3155',\n",
      "                          'types': ['street_number']},\n",
      "                         {'long_name': 'Commonwealth Avenue West',\n",
      "                          'short_name': 'Commonwealth Ave W',\n",
      "                          'types': ['route']},\n",
      "                         {'long_name': 'Clementi',\n",
      "                          'short_name': 'Clementi',\n",
      "                          'types': ['neighborhood', 'political']},\n",
      "                         {'long_name': 'Singapore',\n",
      "                          'short_name': 'Singapore',\n",
      "                          'types': ['locality', 'political']},\n",
      "                         {'long_name': 'Singapore',\n",
      "                          'short_name': 'SG',\n",
      "                          'types': ['country', 'political']},\n",
      "                         {'long_name': '129588',\n",
      "                          'short_name': '129588',\n",
      "                          'types': ['postal_code']}],\n",
      "  'formatted_address': '3155 Commonwealth Avenue West, The Clementi Mall, '\n",
      "                       'Singapore 129588',\n",
      "  'geometry': {'bounds': {'northeast': {'lat': 1.3156536,\n",
      "                                        'lng': 103.7648844},\n",
      "                          'southwest': {'lat': 1.3142307,\n",
      "                                        'lng': 103.7635892}},\n",
      "               'location': {'lat': 1.3149421, 'lng': 103.7642368},\n",
      "               'location_type': 'ROOFTOP',\n",
      "               'viewport': {'northeast': {'lat': 1.316291130291502,\n",
      "                                          'lng': 103.7655857802915},\n",
      "                            'southwest': {'lat': 1.313593169708498,\n",
      "                                          'lng': 103.7628878197085}}},\n",
      "  'partial_match': True,\n",
      "  'place_id': 'ChIJfcb3LY4a2jER2zHaI73M8Dc',\n",
      "  'types': ['premise']},\n",
      " {'address_components': [{'long_name': 'Clementi Road',\n",
      "                          'short_name': 'Clementi Rd',\n",
      "                          'types': ['route']},\n",
      "                         {'long_name': \"Jardine's Lookout\",\n",
      "                          'short_name': \"Jardine's Lookout\",\n",
      "                          'types': ['neighborhood', 'political']},\n",
      "                         {'long_name': 'Hong Kong Island',\n",
      "                          'short_name': 'Hong Kong Island',\n",
      "                          'types': ['administrative_area_level_1',\n",
      "                                    'political']},\n",
      "                         {'long_name': 'Hong Kong',\n",
      "                          'short_name': 'HK',\n",
      "                          'types': ['country', 'political']}],\n",
      "  'formatted_address': \"Clementi Road, Jardine's Lookout, Hong Kong\",\n",
      "  'geometry': {'bounds': {'northeast': {'lat': 22.2712421,\n",
      "                                        'lng': 114.1969473},\n",
      "                          'southwest': {'lat': 22.270457,\n",
      "                                        'lng': 114.1958129}},\n",
      "               'location': {'lat': 22.2708813, 'lng': 114.1961491},\n",
      "               'location_type': 'GEOMETRIC_CENTER',\n",
      "               'viewport': {'northeast': {'lat': 22.2721985302915,\n",
      "                                          'lng': 114.1977290802915},\n",
      "                            'southwest': {'lat': 22.2695005697085,\n",
      "                                          'lng': 114.1950311197085}}},\n",
      "  'partial_match': True,\n",
      "  'place_id': 'ChIJjXzZCLIBBDQRBocDlq57yZs',\n",
      "  'types': ['route']},\n",
      " {'address_components': [{'long_name': 'Clementi Road',\n",
      "                          'short_name': 'Clementi Rd',\n",
      "                          'types': ['route']},\n",
      "                         {'long_name': 'Singapore',\n",
      "                          'short_name': 'Singapore',\n",
      "                          'types': ['locality', 'political']},\n",
      "                         {'long_name': 'Singapore',\n",
      "                          'short_name': 'SG',\n",
      "                          'types': ['country', 'political']}],\n",
      "  'formatted_address': 'Clementi Road, Singapore',\n",
      "  'geometry': {'bounds': {'northeast': {'lat': 1.3375399,\n",
      "                                        'lng': 103.7789673},\n",
      "                          'southwest': {'lat': 1.3248945,\n",
      "                                        'lng': 103.7733101}},\n",
      "               'location': {'lat': 1.3303775, 'lng': 103.776821},\n",
      "               'location_type': 'GEOMETRIC_CENTER',\n",
      "               'viewport': {'northeast': {'lat': 1.3375399,\n",
      "                                          'lng': 103.7789673},\n",
      "                            'southwest': {'lat': 1.3248945,\n",
      "                                          'lng': 103.7733101}}},\n",
      "  'partial_match': True,\n",
      "  'place_id': 'ChIJMTgqpYka2jERuGCG06wpQEo',\n",
      "  'types': ['route']}]\n"
     ]
    }
   ],
   "source": [
    "req = urllib.urlopen(geocode_url)\n",
    "geo_code_list = json.loads(req.read().decode())[\"results\"]\n",
    "pprint(geo_code_list)"
   ]
  }
 ],
 "metadata": {
  "kernelspec": {
   "display_name": "Python 3",
   "language": "python",
   "name": "python3"
  },
  "language_info": {
   "codemirror_mode": {
    "name": "ipython",
    "version": 3
   },
   "file_extension": ".py",
   "mimetype": "text/x-python",
   "name": "python",
   "nbconvert_exporter": "python",
   "pygments_lexer": "ipython3",
   "version": "3.4.3"
  }
 },
 "nbformat": 4,
 "nbformat_minor": 0
}
